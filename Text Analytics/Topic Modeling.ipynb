{
 "cells": [
  {
   "cell_type": "markdown",
   "metadata": {},
   "source": [
    "## Topic Modeling\n",
    "In this project we will segment the headlines from ABC for 15 years. The project has some sample data of 20K headlines. However the full dataset is available for the practice and further research. The objective is to identify the possible segments and optimize the K value. Subsequently visualize the segments/clusters formed by the segmentation."
   ]
  },
  {
   "cell_type": "code",
   "execution_count": 1,
   "metadata": {},
   "outputs": [],
   "source": [
    "#Import the required libraries\n",
    "import pandas as pd\n",
    "import numpy as np\n",
    "from sklearn.feature_extraction.text import CountVectorizer\n",
    "from sklearn.feature_extraction.text import TfidfVectorizer\n",
    "from sklearn.decomposition import TruncatedSVD\n",
    "from sklearn.cluster import KMeans\n",
    "from sklearn.metrics import adjusted_rand_score"
   ]
  },
  {
   "cell_type": "code",
   "execution_count": 2,
   "metadata": {},
   "outputs": [
    {
     "data": {
      "text/html": [
       "<div>\n",
       "<style scoped>\n",
       "    .dataframe tbody tr th:only-of-type {\n",
       "        vertical-align: middle;\n",
       "    }\n",
       "\n",
       "    .dataframe tbody tr th {\n",
       "        vertical-align: top;\n",
       "    }\n",
       "\n",
       "    .dataframe thead th {\n",
       "        text-align: right;\n",
       "    }\n",
       "</style>\n",
       "<table border=\"1\" class=\"dataframe\">\n",
       "  <thead>\n",
       "    <tr style=\"text-align: right;\">\n",
       "      <th></th>\n",
       "      <th>Unnamed: 0</th>\n",
       "      <th>publish_date</th>\n",
       "      <th>headline_text</th>\n",
       "    </tr>\n",
       "  </thead>\n",
       "  <tbody>\n",
       "    <tr>\n",
       "      <th>0</th>\n",
       "      <td>355023</td>\n",
       "      <td>20080106</td>\n",
       "      <td>kibaki offers unified kenyan govt</td>\n",
       "    </tr>\n",
       "    <tr>\n",
       "      <th>1</th>\n",
       "      <td>508861</td>\n",
       "      <td>20091223</td>\n",
       "      <td>gp deregistered over depression prescriptions</td>\n",
       "    </tr>\n",
       "    <tr>\n",
       "      <th>2</th>\n",
       "      <td>374650</td>\n",
       "      <td>20080404</td>\n",
       "      <td>opposition wants more protection for indigenous</td>\n",
       "    </tr>\n",
       "    <tr>\n",
       "      <th>3</th>\n",
       "      <td>958559</td>\n",
       "      <td>20150608</td>\n",
       "      <td>queens birthday honours recognise country</td>\n",
       "    </tr>\n",
       "    <tr>\n",
       "      <th>4</th>\n",
       "      <td>549951</td>\n",
       "      <td>20100712</td>\n",
       "      <td>smith wont commit to second term ets</td>\n",
       "    </tr>\n",
       "  </tbody>\n",
       "</table>\n",
       "</div>"
      ],
      "text/plain": [
       "   Unnamed: 0  publish_date                                    headline_text\n",
       "0      355023      20080106                kibaki offers unified kenyan govt\n",
       "1      508861      20091223    gp deregistered over depression prescriptions\n",
       "2      374650      20080404  opposition wants more protection for indigenous\n",
       "3      958559      20150608        queens birthday honours recognise country\n",
       "4      549951      20100712             smith wont commit to second term ets"
      ]
     },
     "execution_count": 2,
     "metadata": {},
     "output_type": "execute_result"
    }
   ],
   "source": [
    "#Read headlines data\n",
    "data = pd.read_csv(\"C:\\\\Users\\\\Somesh\\\\Jupyter_Python\\\\JBS_Practicals\\\\Data_Analytics\\\\news_headlines.csv\")\n",
    "data = data.dropna(axis=0, how='any', thresh=None, subset=None, inplace=False)\n",
    "data.head()"
   ]
  },
  {
   "cell_type": "code",
   "execution_count": 3,
   "metadata": {},
   "outputs": [
    {
     "data": {
      "text/html": [
       "<div>\n",
       "<style scoped>\n",
       "    .dataframe tbody tr th:only-of-type {\n",
       "        vertical-align: middle;\n",
       "    }\n",
       "\n",
       "    .dataframe tbody tr th {\n",
       "        vertical-align: top;\n",
       "    }\n",
       "\n",
       "    .dataframe thead th {\n",
       "        text-align: right;\n",
       "    }\n",
       "</style>\n",
       "<table border=\"1\" class=\"dataframe\">\n",
       "  <thead>\n",
       "    <tr style=\"text-align: right;\">\n",
       "      <th></th>\n",
       "      <th>Unnamed: 0</th>\n",
       "      <th>publish_date</th>\n",
       "      <th>headline_text</th>\n",
       "    </tr>\n",
       "  </thead>\n",
       "  <tbody>\n",
       "    <tr>\n",
       "      <th>13618</th>\n",
       "      <td>749966</td>\n",
       "      <td>20121218</td>\n",
       "      <td>'roadmap' for domestic violence victims</td>\n",
       "    </tr>\n",
       "    <tr>\n",
       "      <th>4506</th>\n",
       "      <td>605420</td>\n",
       "      <td>20110405</td>\n",
       "      <td>act govt welcomes jail audit</td>\n",
       "    </tr>\n",
       "    <tr>\n",
       "      <th>15950</th>\n",
       "      <td>900517</td>\n",
       "      <td>20140829</td>\n",
       "      <td>sustainability group warns against cutting</td>\n",
       "    </tr>\n",
       "    <tr>\n",
       "      <th>1051</th>\n",
       "      <td>726491</td>\n",
       "      <td>20120921</td>\n",
       "      <td>anti bullying campaign attracts huge support</td>\n",
       "    </tr>\n",
       "    <tr>\n",
       "      <th>3463</th>\n",
       "      <td>662710</td>\n",
       "      <td>20111228</td>\n",
       "      <td>police concerned over missing man</td>\n",
       "    </tr>\n",
       "  </tbody>\n",
       "</table>\n",
       "</div>"
      ],
      "text/plain": [
       "       Unnamed: 0  publish_date                                 headline_text\n",
       "13618      749966      20121218       'roadmap' for domestic violence victims\n",
       "4506       605420      20110405                  act govt welcomes jail audit\n",
       "15950      900517      20140829    sustainability group warns against cutting\n",
       "1051       726491      20120921  anti bullying campaign attracts huge support\n",
       "3463       662710      20111228             police concerned over missing man"
      ]
     },
     "execution_count": 3,
     "metadata": {},
     "output_type": "execute_result"
    }
   ],
   "source": [
    "dataSample = data.sample(7500)\n",
    "dataSample.head()"
   ]
  },
  {
   "cell_type": "code",
   "execution_count": 4,
   "metadata": {},
   "outputs": [
    {
     "data": {
      "text/plain": [
       "Index(['Unnamed: 0', 'publish_date', 'headline_text'], dtype='object')"
      ]
     },
     "execution_count": 4,
     "metadata": {},
     "output_type": "execute_result"
    }
   ],
   "source": [
    "dataSample.columns"
   ]
  },
  {
   "cell_type": "code",
   "execution_count": 5,
   "metadata": {},
   "outputs": [],
   "source": [
    "dataSample['year'] = dataSample['publish_date'].apply(str).str[:4]"
   ]
  },
  {
   "cell_type": "code",
   "execution_count": 6,
   "metadata": {},
   "outputs": [
    {
     "data": {
      "text/html": [
       "<div>\n",
       "<style scoped>\n",
       "    .dataframe tbody tr th:only-of-type {\n",
       "        vertical-align: middle;\n",
       "    }\n",
       "\n",
       "    .dataframe tbody tr th {\n",
       "        vertical-align: top;\n",
       "    }\n",
       "\n",
       "    .dataframe thead th {\n",
       "        text-align: right;\n",
       "    }\n",
       "</style>\n",
       "<table border=\"1\" class=\"dataframe\">\n",
       "  <thead>\n",
       "    <tr style=\"text-align: right;\">\n",
       "      <th></th>\n",
       "      <th>Unnamed: 0</th>\n",
       "      <th>publish_date</th>\n",
       "      <th>headline_text</th>\n",
       "      <th>year</th>\n",
       "    </tr>\n",
       "  </thead>\n",
       "  <tbody>\n",
       "    <tr>\n",
       "      <th>13618</th>\n",
       "      <td>749966</td>\n",
       "      <td>20121218</td>\n",
       "      <td>'roadmap' for domestic violence victims</td>\n",
       "      <td>2012</td>\n",
       "    </tr>\n",
       "    <tr>\n",
       "      <th>4506</th>\n",
       "      <td>605420</td>\n",
       "      <td>20110405</td>\n",
       "      <td>act govt welcomes jail audit</td>\n",
       "      <td>2011</td>\n",
       "    </tr>\n",
       "    <tr>\n",
       "      <th>15950</th>\n",
       "      <td>900517</td>\n",
       "      <td>20140829</td>\n",
       "      <td>sustainability group warns against cutting</td>\n",
       "      <td>2014</td>\n",
       "    </tr>\n",
       "    <tr>\n",
       "      <th>1051</th>\n",
       "      <td>726491</td>\n",
       "      <td>20120921</td>\n",
       "      <td>anti bullying campaign attracts huge support</td>\n",
       "      <td>2012</td>\n",
       "    </tr>\n",
       "    <tr>\n",
       "      <th>3463</th>\n",
       "      <td>662710</td>\n",
       "      <td>20111228</td>\n",
       "      <td>police concerned over missing man</td>\n",
       "      <td>2011</td>\n",
       "    </tr>\n",
       "  </tbody>\n",
       "</table>\n",
       "</div>"
      ],
      "text/plain": [
       "       Unnamed: 0  publish_date                                 headline_text  \\\n",
       "13618      749966      20121218       'roadmap' for domestic violence victims   \n",
       "4506       605420      20110405                  act govt welcomes jail audit   \n",
       "15950      900517      20140829    sustainability group warns against cutting   \n",
       "1051       726491      20120921  anti bullying campaign attracts huge support   \n",
       "3463       662710      20111228             police concerned over missing man   \n",
       "\n",
       "       year  \n",
       "13618  2012  \n",
       "4506   2011  \n",
       "15950  2014  \n",
       "1051   2012  \n",
       "3463   2011  "
      ]
     },
     "execution_count": 6,
     "metadata": {},
     "output_type": "execute_result"
    }
   ],
   "source": [
    "dataSample.head()"
   ]
  },
  {
   "cell_type": "code",
   "execution_count": 7,
   "metadata": {},
   "outputs": [
    {
     "name": "stdout",
     "output_type": "stream",
     "text": [
      "  (0, 789)\t1\n",
      "  (0, 4974)\t1\n",
      "  (0, 10287)\t1\n",
      "  (0, 4104)\t1\n",
      "  (0, 292)\t1\n"
     ]
    }
   ],
   "source": [
    "#Transform the data\n",
    "vectorizer = CountVectorizer(stop_words='english')\n",
    "X = vectorizer.fit_transform(dataSample.headline_text.values)\n",
    "print(X[1])"
   ]
  },
  {
   "cell_type": "code",
   "execution_count": 8,
   "metadata": {},
   "outputs": [],
   "source": [
    "#Topic modeling with SVD\n",
    "from sklearn.decomposition import TruncatedSVD\n",
    "# Fit LSA. Use algorithm = “randomized” for large datasets\n",
    "lsa = TruncatedSVD(2, algorithm = 'randomized')\n",
    "dtm_lsa = pd.DataFrame(lsa.fit_transform(X.asfptype()), columns = ['C1', 'C2'])\n",
    "dtm_lsa= dtm_lsa.replace(to_replace = np.nan, value = 0)  "
   ]
  },
  {
   "cell_type": "code",
   "execution_count": 9,
   "metadata": {},
   "outputs": [
    {
     "data": {
      "text/html": [
       "<div>\n",
       "<style scoped>\n",
       "    .dataframe tbody tr th:only-of-type {\n",
       "        vertical-align: middle;\n",
       "    }\n",
       "\n",
       "    .dataframe tbody tr th {\n",
       "        vertical-align: top;\n",
       "    }\n",
       "\n",
       "    .dataframe thead th {\n",
       "        text-align: right;\n",
       "    }\n",
       "</style>\n",
       "<table border=\"1\" class=\"dataframe\">\n",
       "  <thead>\n",
       "    <tr style=\"text-align: right;\">\n",
       "      <th></th>\n",
       "      <th>C1</th>\n",
       "      <th>C2</th>\n",
       "    </tr>\n",
       "  </thead>\n",
       "  <tbody>\n",
       "    <tr>\n",
       "      <th>0</th>\n",
       "      <td>0.027108</td>\n",
       "      <td>0.000980</td>\n",
       "    </tr>\n",
       "    <tr>\n",
       "      <th>1</th>\n",
       "      <td>0.047677</td>\n",
       "      <td>0.094541</td>\n",
       "    </tr>\n",
       "    <tr>\n",
       "      <th>2</th>\n",
       "      <td>0.007790</td>\n",
       "      <td>0.021389</td>\n",
       "    </tr>\n",
       "    <tr>\n",
       "      <th>3</th>\n",
       "      <td>0.028276</td>\n",
       "      <td>0.033154</td>\n",
       "    </tr>\n",
       "    <tr>\n",
       "      <th>4</th>\n",
       "      <td>1.250767</td>\n",
       "      <td>-0.285082</td>\n",
       "    </tr>\n",
       "  </tbody>\n",
       "</table>\n",
       "</div>"
      ],
      "text/plain": [
       "         C1        C2\n",
       "0  0.027108  0.000980\n",
       "1  0.047677  0.094541\n",
       "2  0.007790  0.021389\n",
       "3  0.028276  0.033154\n",
       "4  1.250767 -0.285082"
      ]
     },
     "execution_count": 9,
     "metadata": {},
     "output_type": "execute_result"
    }
   ],
   "source": [
    "dtm_lsa.head()"
   ]
  },
  {
   "cell_type": "code",
   "execution_count": 10,
   "metadata": {},
   "outputs": [],
   "source": [
    "df_lsa = dataSample\n",
    "df_lsa['Bow']=X\n",
    "df_lsa['C1'] = dtm_lsa['C1']\n",
    "df_lsa['C2'] = dtm_lsa['C2']\n",
    "df_lsa['Topic'] = np.where(dtm_lsa['C1']>dtm_lsa['C2'], 'T1', 'T2')\n",
    "df_lsa = df_lsa.replace(to_replace = np.nan, value = 0)  "
   ]
  },
  {
   "cell_type": "code",
   "execution_count": 11,
   "metadata": {},
   "outputs": [
    {
     "name": "stdout",
     "output_type": "stream",
     "text": [
      "Populating the interactive namespace from numpy and matplotlib\n"
     ]
    },
    {
     "data": {
      "text/plain": [
       "<matplotlib.collections.PathCollection at 0x17efa676278>"
      ]
     },
     "execution_count": 11,
     "metadata": {},
     "output_type": "execute_result"
    },
    {
     "data": {
      "image/png": "[encoded data removed]",
      "text/plain": [
       "<Figure size 432x288 with 1 Axes>"
      ]
     },
     "metadata": {
      "needs_background": "light"
     },
     "output_type": "display_data"
    }
   ],
   "source": [
    "#Visualize the points on the orthogonal plot\n",
    "%pylab inline\n",
    "import matplotlib.pyplot as plt\n",
    "figure()\n",
    "\n",
    "plt.scatter(dtm_lsa['C1'],dtm_lsa['C2'])"
   ]
  },
  {
   "cell_type": "code",
   "execution_count": 12,
   "metadata": {},
   "outputs": [],
   "source": [
    "colors = {'T1':'r', 'T2':'b'}"
   ]
  },
  {
   "cell_type": "markdown",
   "metadata": {},
   "source": [
    "How can we add color?"
   ]
  },
  {
   "cell_type": "code",
   "execution_count": 13,
   "metadata": {},
   "outputs": [
    {
     "data": {
      "text/plain": [
       "13618    T1\n",
       "4506     T2\n",
       "15950    T2\n",
       "1051     T2\n",
       "3463     T1\n",
       "Name: Topic, dtype: object"
      ]
     },
     "execution_count": 13,
     "metadata": {},
     "output_type": "execute_result"
    }
   ],
   "source": [
    "#Add a column to give colors base don the column you select\n",
    "#Let us say, we would like to color the points based on the topic\n",
    "df_lsa['Topic'].head()"
   ]
  },
  {
   "cell_type": "code",
   "execution_count": 14,
   "metadata": {},
   "outputs": [
    {
     "data": {
      "text/plain": [
       "13618    r\n",
       "4506     b\n",
       "15950    b\n",
       "1051     b\n",
       "3463     r\n",
       "Name: Topic, dtype: object"
      ]
     },
     "execution_count": 14,
     "metadata": {},
     "output_type": "execute_result"
    }
   ],
   "source": [
    "#Map the colors with column values\n",
    "df_lsa['Topic'].apply(lambda x:colors[x]).head()"
   ]
  },
  {
   "cell_type": "code",
   "execution_count": 15,
   "metadata": {},
   "outputs": [
    {
     "data": {
      "text/plain": [
       "<matplotlib.collections.PathCollection at 0x17efa72e390>"
      ]
     },
     "execution_count": 15,
     "metadata": {},
     "output_type": "execute_result"
    },
    {
     "data": {
      "image/png": "[encoded data removed]",
      "text/plain": [
       "<Figure size 432x288 with 1 Axes>"
      ]
     },
     "metadata": {
      "needs_background": "light"
     },
     "output_type": "display_data"
    }
   ],
   "source": [
    "#Visualize the points on the orthogonal plot\n",
    "#Now add color\n",
    "colors = {'T1':'r', 'T2':'b'}\n",
    "plt.scatter(dtm_lsa['C1'],dtm_lsa['C2'], c=df_lsa['Topic'].apply(lambda x: colors[x]))"
   ]
  },
  {
   "cell_type": "code",
   "execution_count": 16,
   "metadata": {},
   "outputs": [
    {
     "data": {
      "text/html": [
       "<div>\n",
       "<style scoped>\n",
       "    .dataframe tbody tr th:only-of-type {\n",
       "        vertical-align: middle;\n",
       "    }\n",
       "\n",
       "    .dataframe tbody tr th {\n",
       "        vertical-align: top;\n",
       "    }\n",
       "\n",
       "    .dataframe thead th {\n",
       "        text-align: right;\n",
       "    }\n",
       "</style>\n",
       "<table border=\"1\" class=\"dataframe\">\n",
       "  <thead>\n",
       "    <tr style=\"text-align: right;\">\n",
       "      <th>year</th>\n",
       "      <th>2003</th>\n",
       "      <th>2004</th>\n",
       "      <th>2005</th>\n",
       "      <th>2006</th>\n",
       "      <th>2007</th>\n",
       "      <th>2008</th>\n",
       "      <th>2009</th>\n",
       "      <th>2010</th>\n",
       "      <th>2011</th>\n",
       "      <th>2012</th>\n",
       "      <th>2013</th>\n",
       "      <th>2014</th>\n",
       "      <th>2015</th>\n",
       "      <th>2016</th>\n",
       "      <th>2017</th>\n",
       "    </tr>\n",
       "    <tr>\n",
       "      <th>Topic</th>\n",
       "      <th></th>\n",
       "      <th></th>\n",
       "      <th></th>\n",
       "      <th></th>\n",
       "      <th></th>\n",
       "      <th></th>\n",
       "      <th></th>\n",
       "      <th></th>\n",
       "      <th></th>\n",
       "      <th></th>\n",
       "      <th></th>\n",
       "      <th></th>\n",
       "      <th></th>\n",
       "      <th></th>\n",
       "      <th></th>\n",
       "    </tr>\n",
       "  </thead>\n",
       "  <tbody>\n",
       "    <tr>\n",
       "      <th>T1</th>\n",
       "      <td>177</td>\n",
       "      <td>216</td>\n",
       "      <td>205</td>\n",
       "      <td>201</td>\n",
       "      <td>243</td>\n",
       "      <td>241</td>\n",
       "      <td>238</td>\n",
       "      <td>224</td>\n",
       "      <td>255</td>\n",
       "      <td>251</td>\n",
       "      <td>279</td>\n",
       "      <td>212</td>\n",
       "      <td>229</td>\n",
       "      <td>139</td>\n",
       "      <td>144</td>\n",
       "    </tr>\n",
       "    <tr>\n",
       "      <th>T2</th>\n",
       "      <td>248</td>\n",
       "      <td>290</td>\n",
       "      <td>281</td>\n",
       "      <td>269</td>\n",
       "      <td>283</td>\n",
       "      <td>296</td>\n",
       "      <td>296</td>\n",
       "      <td>281</td>\n",
       "      <td>278</td>\n",
       "      <td>326</td>\n",
       "      <td>355</td>\n",
       "      <td>324</td>\n",
       "      <td>314</td>\n",
       "      <td>228</td>\n",
       "      <td>177</td>\n",
       "    </tr>\n",
       "  </tbody>\n",
       "</table>\n",
       "</div>"
      ],
      "text/plain": [
       "year   2003  2004  2005  2006  2007  2008  2009  2010  2011  2012  2013  2014  \\\n",
       "Topic                                                                           \n",
       "T1      177   216   205   201   243   241   238   224   255   251   279   212   \n",
       "T2      248   290   281   269   283   296   296   281   278   326   355   324   \n",
       "\n",
       "year   2015  2016  2017  \n",
       "Topic                    \n",
       "T1      229   139   144  \n",
       "T2      314   228   177  "
      ]
     },
     "execution_count": 16,
     "metadata": {},
     "output_type": "execute_result"
    }
   ],
   "source": [
    "pd.crosstab(df_lsa.Topic, df_lsa.year)"
   ]
  },
  {
   "cell_type": "code",
   "execution_count": 17,
   "metadata": {},
   "outputs": [
    {
     "data": {
      "text/plain": [
       "<matplotlib.axes._subplots.AxesSubplot at 0x17efa72ec50>"
      ]
     },
     "execution_count": 17,
     "metadata": {},
     "output_type": "execute_result"
    },
    {
     "data": {
      "image/png": "[encoded data removed]",
      "text/plain": [
       "<Figure size 432x288 with 1 Axes>"
      ]
     },
     "metadata": {
      "needs_background": "light"
     },
     "output_type": "display_data"
    }
   ],
   "source": [
    "pd.crosstab(df_lsa.year,df_lsa.Topic).plot()"
   ]
  },
  {
   "cell_type": "markdown",
   "metadata": {},
   "source": [
    "### Now try the topic modeling with TF_IDF"
   ]
  },
  {
   "cell_type": "code",
   "execution_count": 18,
   "metadata": {},
   "outputs": [
    {
     "name": "stdout",
     "output_type": "stream",
     "text": [
      "10567\n",
      "['jarryd', 'jarvis', 'jason', 'jay', 'jbs', 'jeffrey', 'jellyfish', 'jenkins', 'jennie', 'jennifer', 'jeopardises', 'jeopardy', 'jeou', 'jeremy', 'jericho', 'jerseys', 'jerusalem', 'jet', 'jets', 'jetstar', 'jetty', 'jewfish', 'ji', 'jibe', 'jigsaw', 'jihad', 'jihadists', 'jim', 'jinx', 'joan', 'joanna', 'job', 'jobless', 'jobs', 'joel', 'joh', 'johann', 'johansson', 'john', 'johnathan', 'johnny', 'johns', 'johnson', 'join', 'joins', 'joint', 'jolie', 'jolleys', 'jolt', 'jon', 'jonathan', 'jones', 'jong', 'jordan', 'josh', 'joshua', 'joughin', 'journalist', 'journalists', 'journey', 'joust', 'joy', 'joyce', 'joys', 'judas', 'judd', 'jude', 'judge', 'judges', 'judging', 'judgment', 'judicia', 'judiciary', 'julia', 'julian', 'julie', 'julius', 'july', 'jump', 'jumping', 'jumps', 'junction', 'june', 'jungle', 'junior', 'juntas', 'jupiter', 'jury', 'just', 'justice', 'justices', 'justification', 'justifies', 'justin', 'juve', 'juvenile', 'kacie', 'kafelnikov', 'kakadu', 'kakoschke']\n"
     ]
    }
   ],
   "source": [
    "#Transform the data with TfIdf\n",
    "vectorizer = TfidfVectorizer(stop_words='english')\n",
    "X = vectorizer.fit_transform(dataSample.headline_text.values)\n",
    "word_features = vectorizer.get_feature_names()\n",
    "print(len(word_features))\n",
    "print(word_features[5000:5100])"
   ]
  },
  {
   "cell_type": "code",
   "execution_count": 19,
   "metadata": {},
   "outputs": [],
   "source": [
    "#Topic modeling with SVD\n",
    "# Fit LSA. Use algorithm = “randomized” for large datasets\n",
    "lsa = TruncatedSVD(2, algorithm = 'randomized')\n",
    "dtm_lsa = pd.DataFrame(lsa.fit_transform(X.asfptype()), columns = ['C1', 'C2'])\n",
    "dtm_lsa = dtm_lsa.replace(to_replace = np.nan, value = 0)  "
   ]
  },
  {
   "cell_type": "code",
   "execution_count": 20,
   "metadata": {},
   "outputs": [
    {
     "data": {
      "text/html": [
       "<div>\n",
       "<style scoped>\n",
       "    .dataframe tbody tr th:only-of-type {\n",
       "        vertical-align: middle;\n",
       "    }\n",
       "\n",
       "    .dataframe tbody tr th {\n",
       "        vertical-align: top;\n",
       "    }\n",
       "\n",
       "    .dataframe thead th {\n",
       "        text-align: right;\n",
       "    }\n",
       "</style>\n",
       "<table border=\"1\" class=\"dataframe\">\n",
       "  <thead>\n",
       "    <tr style=\"text-align: right;\">\n",
       "      <th></th>\n",
       "      <th>C1</th>\n",
       "      <th>C2</th>\n",
       "    </tr>\n",
       "  </thead>\n",
       "  <tbody>\n",
       "    <tr>\n",
       "      <th>0</th>\n",
       "      <td>0.018240</td>\n",
       "      <td>0.005370</td>\n",
       "    </tr>\n",
       "    <tr>\n",
       "      <th>1</th>\n",
       "      <td>0.035825</td>\n",
       "      <td>0.028974</td>\n",
       "    </tr>\n",
       "    <tr>\n",
       "      <th>2</th>\n",
       "      <td>0.007656</td>\n",
       "      <td>0.009592</td>\n",
       "    </tr>\n",
       "    <tr>\n",
       "      <th>3</th>\n",
       "      <td>0.014690</td>\n",
       "      <td>0.006953</td>\n",
       "    </tr>\n",
       "    <tr>\n",
       "      <th>4</th>\n",
       "      <td>0.528115</td>\n",
       "      <td>-0.069130</td>\n",
       "    </tr>\n",
       "  </tbody>\n",
       "</table>\n",
       "</div>"
      ],
      "text/plain": [
       "         C1        C2\n",
       "0  0.018240  0.005370\n",
       "1  0.035825  0.028974\n",
       "2  0.007656  0.009592\n",
       "3  0.014690  0.006953\n",
       "4  0.528115 -0.069130"
      ]
     },
     "execution_count": 20,
     "metadata": {},
     "output_type": "execute_result"
    }
   ],
   "source": [
    "dtm_lsa.head()"
   ]
  },
  {
   "cell_type": "code",
   "execution_count": 21,
   "metadata": {},
   "outputs": [],
   "source": [
    "df_lsa = dataSample\n",
    "df_lsa['Bow']=X\n",
    "df_lsa['C1'] = dtm_lsa['C1']\n",
    "df_lsa['C2'] = dtm_lsa['C2']\n",
    "df_lsa['Topic'] = np.where(dtm_lsa['C1']>dtm_lsa['C2'], 'T1', 'T2')"
   ]
  },
  {
   "cell_type": "code",
   "execution_count": 22,
   "metadata": {},
   "outputs": [
    {
     "data": {
      "text/plain": [
       "<matplotlib.collections.PathCollection at 0x17efa8d7dd8>"
      ]
     },
     "execution_count": 22,
     "metadata": {},
     "output_type": "execute_result"
    },
    {
     "data": {
      "image/png": "[encoded data removed]",
      "text/plain": [
       "<Figure size 432x288 with 1 Axes>"
      ]
     },
     "metadata": {
      "needs_background": "light"
     },
     "output_type": "display_data"
    }
   ],
   "source": [
    "#Visualize the points on the orthogonal plot\n",
    "# With color\n",
    "colors = {'T1':'r', 'T2':'b'}\n",
    "plt.scatter(dtm_lsa['C1'],dtm_lsa['C2'], c=df_lsa['Topic'].apply(lambda x: colors[x]))"
   ]
  },
  {
   "cell_type": "code",
   "execution_count": 23,
   "metadata": {},
   "outputs": [
    {
     "data": {
      "text/html": [
       "<div>\n",
       "<style scoped>\n",
       "    .dataframe tbody tr th:only-of-type {\n",
       "        vertical-align: middle;\n",
       "    }\n",
       "\n",
       "    .dataframe tbody tr th {\n",
       "        vertical-align: top;\n",
       "    }\n",
       "\n",
       "    .dataframe thead th {\n",
       "        text-align: right;\n",
       "    }\n",
       "</style>\n",
       "<table border=\"1\" class=\"dataframe\">\n",
       "  <thead>\n",
       "    <tr style=\"text-align: right;\">\n",
       "      <th>year</th>\n",
       "      <th>2003</th>\n",
       "      <th>2004</th>\n",
       "      <th>2005</th>\n",
       "      <th>2006</th>\n",
       "      <th>2007</th>\n",
       "      <th>2008</th>\n",
       "      <th>2009</th>\n",
       "      <th>2010</th>\n",
       "      <th>2011</th>\n",
       "      <th>2012</th>\n",
       "      <th>2013</th>\n",
       "      <th>2014</th>\n",
       "      <th>2015</th>\n",
       "      <th>2016</th>\n",
       "      <th>2017</th>\n",
       "    </tr>\n",
       "    <tr>\n",
       "      <th>Topic</th>\n",
       "      <th></th>\n",
       "      <th></th>\n",
       "      <th></th>\n",
       "      <th></th>\n",
       "      <th></th>\n",
       "      <th></th>\n",
       "      <th></th>\n",
       "      <th></th>\n",
       "      <th></th>\n",
       "      <th></th>\n",
       "      <th></th>\n",
       "      <th></th>\n",
       "      <th></th>\n",
       "      <th></th>\n",
       "      <th></th>\n",
       "    </tr>\n",
       "  </thead>\n",
       "  <tbody>\n",
       "    <tr>\n",
       "      <th>T1</th>\n",
       "      <td>337</td>\n",
       "      <td>392</td>\n",
       "      <td>380</td>\n",
       "      <td>362</td>\n",
       "      <td>411</td>\n",
       "      <td>418</td>\n",
       "      <td>399</td>\n",
       "      <td>386</td>\n",
       "      <td>419</td>\n",
       "      <td>405</td>\n",
       "      <td>449</td>\n",
       "      <td>379</td>\n",
       "      <td>404</td>\n",
       "      <td>275</td>\n",
       "      <td>235</td>\n",
       "    </tr>\n",
       "    <tr>\n",
       "      <th>T2</th>\n",
       "      <td>88</td>\n",
       "      <td>114</td>\n",
       "      <td>106</td>\n",
       "      <td>108</td>\n",
       "      <td>115</td>\n",
       "      <td>119</td>\n",
       "      <td>135</td>\n",
       "      <td>119</td>\n",
       "      <td>114</td>\n",
       "      <td>172</td>\n",
       "      <td>185</td>\n",
       "      <td>157</td>\n",
       "      <td>139</td>\n",
       "      <td>92</td>\n",
       "      <td>86</td>\n",
       "    </tr>\n",
       "  </tbody>\n",
       "</table>\n",
       "</div>"
      ],
      "text/plain": [
       "year   2003  2004  2005  2006  2007  2008  2009  2010  2011  2012  2013  2014  \\\n",
       "Topic                                                                           \n",
       "T1      337   392   380   362   411   418   399   386   419   405   449   379   \n",
       "T2       88   114   106   108   115   119   135   119   114   172   185   157   \n",
       "\n",
       "year   2015  2016  2017  \n",
       "Topic                    \n",
       "T1      404   275   235  \n",
       "T2      139    92    86  "
      ]
     },
     "execution_count": 23,
     "metadata": {},
     "output_type": "execute_result"
    }
   ],
   "source": [
    "pd.crosstab(df_lsa.Topic, df_lsa.year)"
   ]
  },
  {
   "cell_type": "code",
   "execution_count": 24,
   "metadata": {},
   "outputs": [
    {
     "data": {
      "text/plain": [
       "<matplotlib.axes._subplots.AxesSubplot at 0x17efb9495f8>"
      ]
     },
     "execution_count": 24,
     "metadata": {},
     "output_type": "execute_result"
    },
    {
     "data": {
      "image/png": "[encoded data removed]",
      "text/plain": [
       "<Figure size 432x288 with 1 Axes>"
      ]
     },
     "metadata": {
      "needs_background": "light"
     },
     "output_type": "display_data"
    }
   ],
   "source": [
    "pd.crosstab(df_lsa.year,df_lsa.Topic).plot()"
   ]
  },
  {
   "cell_type": "markdown",
   "metadata": {},
   "source": [
    "### Now do the clustering based on the components than the Bow/TF_IDF"
   ]
  },
  {
   "cell_type": "code",
   "execution_count": 25,
   "metadata": {},
   "outputs": [],
   "source": [
    "#Get the data\n",
    "df_lsa = df_lsa.replace(to_replace = np.nan, value = -99)  \n",
    "X = df_lsa[['C1', 'C2']]"
   ]
  },
  {
   "cell_type": "code",
   "execution_count": 26,
   "metadata": {},
   "outputs": [
    {
     "data": {
      "text/plain": [
       "KMeans(algorithm='auto', copy_x=True, init='k-means++', max_iter=100,\n",
       "       n_clusters=8, n_init=1, n_jobs=None, precompute_distances='auto',\n",
       "       random_state=None, tol=0.0001, verbose=0)"
      ]
     },
     "execution_count": 26,
     "metadata": {},
     "output_type": "execute_result"
    }
   ],
   "source": [
    "#Build the clusters\n",
    "true_k = 8\n",
    "model = KMeans(n_clusters=true_k, init='k-means++', max_iter=100, n_init=1)\n",
    "model.fit(X)"
   ]
  },
  {
   "cell_type": "code",
   "execution_count": 27,
   "metadata": {},
   "outputs": [],
   "source": [
    "predictions = model.predict(X)"
   ]
  },
  {
   "cell_type": "code",
   "execution_count": 28,
   "metadata": {},
   "outputs": [],
   "source": [
    "df_lsa['Segment']=predictions"
   ]
  },
  {
   "cell_type": "code",
   "execution_count": 29,
   "metadata": {},
   "outputs": [
    {
     "data": {
      "text/html": [
       "<div>\n",
       "<style scoped>\n",
       "    .dataframe tbody tr th:only-of-type {\n",
       "        vertical-align: middle;\n",
       "    }\n",
       "\n",
       "    .dataframe tbody tr th {\n",
       "        vertical-align: top;\n",
       "    }\n",
       "\n",
       "    .dataframe thead th {\n",
       "        text-align: right;\n",
       "    }\n",
       "</style>\n",
       "<table border=\"1\" class=\"dataframe\">\n",
       "  <thead>\n",
       "    <tr style=\"text-align: right;\">\n",
       "      <th></th>\n",
       "      <th>Unnamed: 0</th>\n",
       "      <th>publish_date</th>\n",
       "      <th>headline_text</th>\n",
       "      <th>year</th>\n",
       "      <th>Bow</th>\n",
       "      <th>C1</th>\n",
       "      <th>C2</th>\n",
       "      <th>Topic</th>\n",
       "      <th>Segment</th>\n",
       "    </tr>\n",
       "  </thead>\n",
       "  <tbody>\n",
       "    <tr>\n",
       "      <th>13618</th>\n",
       "      <td>749966</td>\n",
       "      <td>20121218</td>\n",
       "      <td>'roadmap' for domestic violence victims</td>\n",
       "      <td>2012</td>\n",
       "      <td>(0, 8025)\\t0.6170888291610249\\n  (0, 2939)\\t...</td>\n",
       "      <td>-99.000000</td>\n",
       "      <td>-99.000000</td>\n",
       "      <td>T1</td>\n",
       "      <td>0</td>\n",
       "    </tr>\n",
       "    <tr>\n",
       "      <th>4506</th>\n",
       "      <td>605420</td>\n",
       "      <td>20110405</td>\n",
       "      <td>act govt welcomes jail audit</td>\n",
       "      <td>2011</td>\n",
       "      <td>(0, 8025)\\t0.6170888291610249\\n  (0, 2939)\\t...</td>\n",
       "      <td>0.011905</td>\n",
       "      <td>-0.001069</td>\n",
       "      <td>T1</td>\n",
       "      <td>4</td>\n",
       "    </tr>\n",
       "    <tr>\n",
       "      <th>15950</th>\n",
       "      <td>900517</td>\n",
       "      <td>20140829</td>\n",
       "      <td>sustainability group warns against cutting</td>\n",
       "      <td>2014</td>\n",
       "      <td>(0, 8025)\\t0.6170888291610249\\n  (0, 2939)\\t...</td>\n",
       "      <td>-99.000000</td>\n",
       "      <td>-99.000000</td>\n",
       "      <td>T2</td>\n",
       "      <td>0</td>\n",
       "    </tr>\n",
       "    <tr>\n",
       "      <th>1051</th>\n",
       "      <td>726491</td>\n",
       "      <td>20120921</td>\n",
       "      <td>anti bullying campaign attracts huge support</td>\n",
       "      <td>2012</td>\n",
       "      <td>(0, 8025)\\t0.6170888291610249\\n  (0, 2939)\\t...</td>\n",
       "      <td>0.007871</td>\n",
       "      <td>0.014663</td>\n",
       "      <td>T1</td>\n",
       "      <td>4</td>\n",
       "    </tr>\n",
       "    <tr>\n",
       "      <th>3463</th>\n",
       "      <td>662710</td>\n",
       "      <td>20111228</td>\n",
       "      <td>police concerned over missing man</td>\n",
       "      <td>2011</td>\n",
       "      <td>(0, 8025)\\t0.6170888291610249\\n  (0, 2939)\\t...</td>\n",
       "      <td>0.015302</td>\n",
       "      <td>0.010212</td>\n",
       "      <td>T1</td>\n",
       "      <td>4</td>\n",
       "    </tr>\n",
       "  </tbody>\n",
       "</table>\n",
       "</div>"
      ],
      "text/plain": [
       "       Unnamed: 0  publish_date                                 headline_text  \\\n",
       "13618      749966      20121218       'roadmap' for domestic violence victims   \n",
       "4506       605420      20110405                  act govt welcomes jail audit   \n",
       "15950      900517      20140829    sustainability group warns against cutting   \n",
       "1051       726491      20120921  anti bullying campaign attracts huge support   \n",
       "3463       662710      20111228             police concerned over missing man   \n",
       "\n",
       "       year                                                Bow         C1  \\\n",
       "13618  2012    (0, 8025)\\t0.6170888291610249\\n  (0, 2939)\\t... -99.000000   \n",
       "4506   2011    (0, 8025)\\t0.6170888291610249\\n  (0, 2939)\\t...   0.011905   \n",
       "15950  2014    (0, 8025)\\t0.6170888291610249\\n  (0, 2939)\\t... -99.000000   \n",
       "1051   2012    (0, 8025)\\t0.6170888291610249\\n  (0, 2939)\\t...   0.007871   \n",
       "3463   2011    (0, 8025)\\t0.6170888291610249\\n  (0, 2939)\\t...   0.015302   \n",
       "\n",
       "              C2 Topic  Segment  \n",
       "13618 -99.000000    T1        0  \n",
       "4506   -0.001069    T1        4  \n",
       "15950 -99.000000    T2        0  \n",
       "1051    0.014663    T1        4  \n",
       "3463    0.010212    T1        4  "
      ]
     },
     "execution_count": 29,
     "metadata": {},
     "output_type": "execute_result"
    }
   ],
   "source": [
    "df_lsa.head()"
   ]
  },
  {
   "cell_type": "code",
   "execution_count": 30,
   "metadata": {},
   "outputs": [
    {
     "data": {
      "text/plain": [
       "<matplotlib.collections.PathCollection at 0x17efb9d16a0>"
      ]
     },
     "execution_count": 30,
     "metadata": {},
     "output_type": "execute_result"
    },
    {
     "data": {
      "image/png": "[encoded data removed]",
      "text/plain": [
       "<Figure size 432x288 with 1 Axes>"
      ]
     },
     "metadata": {
      "needs_background": "light"
     },
     "output_type": "display_data"
    }
   ],
   "source": [
    "#Plot the components with segment colors\n",
    "plt.scatter(dtm_lsa['C1'],dtm_lsa['C2'],c=df_lsa['Segment'])"
   ]
  },
  {
   "cell_type": "code",
   "execution_count": null,
   "metadata": {},
   "outputs": [],
   "source": []
  }
 ],
 "metadata": {
  "kernelspec": {
   "display_name": "Python 3",
   "language": "python",
   "name": "python3"
  },
  "language_info": {
   "codemirror_mode": {
    "name": "ipython",
    "version": 3
   },
   "file_extension": ".py",
   "mimetype": "text/x-python",
   "name": "python",
   "nbconvert_exporter": "python",
   "pygments_lexer": "ipython3",
   "version": "3.6.8"
  }
 },
 "nbformat": 4,
 "nbformat_minor": 2
}
