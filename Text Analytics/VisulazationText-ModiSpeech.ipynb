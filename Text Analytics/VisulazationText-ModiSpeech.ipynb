{
 "cells": [
  {
   "cell_type": "markdown",
   "metadata": {},
   "source": [
    "Visually representing the content of a text document is one of the most important tasks in the field of text mining. ... For example, many text visualizations do not represent the text directly, they represent an output of a language model(word count, character length, word sequences, etc.).\n",
    "\n",
    "### Following activities are performed\n",
    "1. PRE PROCESSING\n",
    "2. MODELLING\n",
    "3. POST PROECESSING\n",
    "4. PRESENTATION\n",
    "\n",
    "####  ACCESS --> TOKENIZE --> NORMALIZE  --> STOP WORD --> FEATURING TABLE --> VISULAIZATION\n",
    "    BS4        SPLIT()      LOWER()          CREATE              COUNTER SORT       TABLE ==> | WORD | FREQUECNY |\n",
    "    URL LIB                                  SW LIST                                BAR CHARTS\n",
    "                                                                                    WORD CLOUD"
   ]
  },
  {
   "cell_type": "code",
   "execution_count": 1,
   "metadata": {},
   "outputs": [],
   "source": [
    "#import libraries\n",
    "import pandas as pd\n",
    "import numpy as np\n",
    "import matplotlib.pyplot as plt\n",
    "from wordcloud import WordCloud"
   ]
  },
  {
   "cell_type": "code",
   "execution_count": 2,
   "metadata": {},
   "outputs": [],
   "source": [
    "#create some functions for cleaning and counting\n",
    "def wordfreq(words):\n",
    "    \"\"\"Function to generated the frequency distribution of the given text\"\"\"\n",
    "    word_freq={}\n",
    "    for tok in words:\n",
    "        if tok.lower() in word_freq:\n",
    "            word_freq [tok.lower()]+=1\n",
    "        else:\n",
    "            word_freq [tok.lower()]=1\n",
    "        #print(word_freq)\n",
    "    return word_freq\n",
    "def sort_tokens(tokens):\n",
    "    import operator\n",
    "    sorted_d = sorted(tokens.items(), key=operator.itemgetter(1),reverse=True)\n",
    "    #print('Dictionary in descending order by value : ',sorted_d)\n",
    "    #print(sorted_d[:25])\n",
    "    return(sorted_d)"
   ]
  },
  {
   "cell_type": "code",
   "execution_count": 3,
   "metadata": {},
   "outputs": [],
   "source": [
    "def plot_wordcloud(wordcloud):\n",
    "        plt.imshow(wordcloud, interpolation='bilinear')\n",
    "        plt.axis(\"off\")\n",
    "        plt.show()"
   ]
  },
  {
   "cell_type": "code",
   "execution_count": 4,
   "metadata": {},
   "outputs": [],
   "source": [
    "from wordcloud import STOPWORDS\n",
    "stopwords = set(STOPWORDS)"
   ]
  },
  {
   "cell_type": "markdown",
   "metadata": {},
   "source": [
    "### 73rd-independence-day-2019-full-text-of-narendra-modis-red-fort-speech"
   ]
  },
  {
   "cell_type": "code",
   "execution_count": 5,
   "metadata": {},
   "outputs": [
    {
     "name": "stdout",
     "output_type": "stream",
     "text": [
      "151094\n"
     ]
    }
   ],
   "source": [
    "#Clean text??\n",
    "from urllib.request import urlopen\n",
    "response = urlopen('https://www.livemint.com/news/india/73rd-independence-day-2019-live-updates-pm-narendra-modi-delivers-speech-from-red-fort-1565763102454.html')\n",
    "html = response.read()\n",
    "print(len(html))\n",
    "tokens_modi = [tok for tok in html.split()]\n",
    "#print(\"Total no of tokens :\"+ str(len(tokens_py)))\n",
    "#print(tokens_py[0:100])"
   ]
  },
  {
   "cell_type": "code",
   "execution_count": 6,
   "metadata": {},
   "outputs": [
    {
     "name": "stdout",
     "output_type": "stream",
     "text": [
      "Calling BS4\n"
     ]
    }
   ],
   "source": [
    "#We clean it a bit\n",
    "from bs4 import BeautifulSoup\n",
    "print(\"Calling BS4\")\n",
    "soup = BeautifulSoup(html, 'html.parser')\n",
    "#print(soup.get_text())\n",
    "# kill all script and style elements\n",
    "for script in soup([\"script\", \"style\"]):\n",
    "    script.extract() \n",
    "#print(soup.get_text())"
   ]
  },
  {
   "cell_type": "code",
   "execution_count": 7,
   "metadata": {},
   "outputs": [],
   "source": [
    "#Get the token\n",
    "tokens_modi = [tok for tok in soup.get_text().split()]\n",
    "stop_words = ['>>>','and','to','the','for', 'is','of', '#','=','a','in','The', 'i', 'I', 'they', 'you', 'i', 'we', 'that', 'have','our', 'it', 'it’s','are','they','but','this', 'not', 'going', 'be', 'he', 'we’re', 'all', 'because']\n",
    "tokens_modi_clean = []\n",
    "for token in tokens_modi:\n",
    "    if token in stop_words:\n",
    "        pass\n",
    "    else:\n",
    "        tokens_modi_clean.append(token.replace('.', '').strip())\n",
    "#print(tokens_clean) "
   ]
  },
  {
   "cell_type": "code",
   "execution_count": 8,
   "metadata": {},
   "outputs": [
    {
     "name": "stdout",
     "output_type": "stream",
     "text": [
      "['PM', \"Modi's\", 'Independence', 'Day', 'speech', 'highlights:', 'India', 'can', 'be', 'a', '$5', 'trillion', 'economy', 'in', '5', 'years', 'Explore', 'e-paperNew', 'Saturday,', '7', 'September', '2019', 'Log', 'in/Sign', 'up', 'Search', 'e-paperNew', 'Notifications99', 'Top', 'Sections', 'Company', 'Results', 'Companies', 'NewsStart-upsCompany', 'ResultsPeople', 'Start-ups', 'Mint', '50', '-', 'Top', 'Mutual', 'Funds', 'Technology', 'GadgetsTech', 'ReviewsApp', 'NewsFoldable', 'Smartphones5G', 'Tech', 'Markets', 'Stock', 'MarketsCommoditiesMark', 'To', 'MarketIPOLive', 'Blog', 'Money', 'Personal', 'FinanceQ&A', 'Mutual', 'Funds', 'Mint', '50', '-', 'Top', 'Mutual', 'FundsNews', 'Insurance', 'Industry', 'BankingInfotechInfrastructureAgricultureManufacturingEnergyRetail', 'Opinion', 'ViewsColumnsBlogs', 'Politics', 'Lounge', 'FeaturesBusiness', 'of', 'Life', 'Photos', 'Videos', 'Mint', 'ExplainersMarket', 'AnalysisWhy', 'Not', 'Mint', 'MoneyBusiness', 'of', 'EntertainmentLong', 'Story', 'CapsuleMint', 'Views', 'Start-Up', 'DiariesMoney', 'With', 'MonikaMint', 'InsightDigital', 'GurusBrand', 'Masters', 'Brand', 'PostExplore', 'MintAbout', 'UsContact', 'UsSITEMAPRSSTerms']\n"
     ]
    }
   ],
   "source": [
    "print(tokens_modi[0:100])"
   ]
  },
  {
   "cell_type": "code",
   "execution_count": 9,
   "metadata": {},
   "outputs": [],
   "source": [
    "new_tokens = wordfreq(tokens_modi)"
   ]
  },
  {
   "cell_type": "code",
   "execution_count": 10,
   "metadata": {},
   "outputs": [],
   "source": [
    "#Sort the dcitionary on the basis of word freuqncy\n",
    "data = sort_tokens(new_tokens)"
   ]
  },
  {
   "cell_type": "code",
   "execution_count": 11,
   "metadata": {},
   "outputs": [
    {
     "name": "stdout",
     "output_type": "stream",
     "text": [
      "[('the', 84), ('of', 38), ('to', 34), ('in', 32), ('pm', 24), ('am:', 23), ('a', 22), ('modi', 19), ('for', 17), ('and', 16), ('independence', 15), ('on', 13), ('trillion', 12), ('are', 12), ('be', 11), ('with', 10), ('we', 10), ('country', 10), ('says', 10), ('day', 9), ('prime', 9), ('narendra', 9), ('will', 9), ('is', 9), ('can', 8), ('minister', 8), ('his', 8), ('people', 8), ('india', 7), ('economy', 7), ('nation', 7), ('that', 7), ('was', 7), ('also', 7), ('our', 7), ('$5', 6), ('article', 6), ('new', 6), ('this', 6), ('mint', 5), ('red', 5), ('70', 5), ('said', 5), ('at', 5), ('have', 5), ('been', 5), ('has', 5), ('had', 5), ('speech', 4), ('up', 4), ('top', 4), ('mutual', 4), ('not', 4), ('2019,', 4), ('about', 4), ('one', 4), ('five', 4), ('years.', 4), ('became', 4), ('economy.', 4), ('before', 4), ('just', 4), ('country.', 4), ('by', 4), ('taken', 4), ('government', 4), ('us', 4), (\"modi's\", 3), ('5', 3), ('years', 3), ('2019', 3), ('50', 3), ('-', 3), ('day.', 3), ('sixth', 3), ('consecutive', 3), ('from', 3), ('like', 3), ('welfare', 3), ('2014', 3), ('last', 3), ('now', 3), ('looking', 3), ('forward', 3), ('making', 3), ('who', 3), ('modi:', 3), ('used', 3), ('let', 3), ('an', 3), ('pledge', 3), ('your', 3), ('speeches', 3), ('highlights:', 2), ('e-papernew', 2), ('company', 2), ('funds', 2), ('money', 2), ('story', 2), ('brand', 2), ('all', 2), ('73rd', 2), ('read', 2), ('15', 2), ('staff', 2), ('spoke', 2), ('issues', 2), ('370,', 2), ('water', 2), ('population', 2), ('explosion', 2), ('development', 2), ('share', 2), ('via', 2), ('topics', 2), ('delhi', 2), ('first', 2), ('fort', 2), ('day,', 2), ('35a,', 2), ('triple', 2), ('schemes', 2), ('farmers', 2), ('jal', 2), ('expressed', 2), ('become', 2), ('next', 2), ('\"from', 2), ('$3', 2), ('that,', 2), ('years,', 2), ('$2', 2), ('added', 2), ('$1', 2), ('economy,\"', 2), ('he', 2), ('wealth', 2), ('should', 2), ('they', 2), ('various', 2), ('those', 2), ('steps', 2), ('days', 2), ('government,', 2), ('importance', 2), ('make', 2), ('done', 2), ('disappointment', 2), ('every', 2), ('nation,', 2), ('coming', 2), ('total', 2), ('lakh', 2), ('crore', 2), ('allotted', 2), ('talks', 2), ('urges', 2), ('create', 2), ('policy', 2), ('it', 2), ('no', 2), ('doing', 2), ('\"we', 2), ('check', 2), ('tourist', 2), ('destinations', 2), ('\"let', 2), ('least', 2), ('between', 2), ('emoji', 2), ('police', 2), ('continue', 2), ('please', 2), ('explore', 1), ('saturday,', 1), ('7', 1), ('september', 1), ('log', 1), ('in/sign', 1), ('search', 1), ('notifications99', 1), ('sections', 1), ('results', 1), ('companies', 1), ('newsstart-upscompany', 1), ('resultspeople', 1), ('start-ups', 1), ('technology', 1), ('gadgetstech', 1), ('reviewsapp', 1), ('newsfoldable', 1), ('smartphones5g', 1), ('tech', 1), ('markets', 1), ('stock', 1), ('marketscommoditiesmark', 1), ('marketipolive', 1), ('blog', 1), ('personal', 1), ('financeq&a', 1), ('fundsnews', 1), ('insurance', 1), ('industry', 1), ('bankinginfotechinfrastructureagriculturemanufacturingenergyretail', 1), ('opinion', 1), ('viewscolumnsblogs', 1), ('politics', 1), ('lounge', 1), ('featuresbusiness', 1), ('life', 1), ('photos', 1), ('videos', 1), ('explainersmarket', 1), ('analysiswhy', 1), ('moneybusiness', 1), ('entertainmentlong', 1), ('capsulemint', 1), ('views', 1), ('start-up', 1), ('diariesmoney', 1), ('monikamint', 1), ('insightdigital', 1), ('gurusbrand', 1), ('masters', 1), ('postexplore', 1), ('mintabout', 1), ('uscontact', 1), ('ussitemaprssterms', 1), ('usesubscriptionprivacy', 1), ('policymint', 1), ('codemint', 1), ('appslm', 1), ('storiescopyright', 1), ('©', 1), ('ht', 1), ('media', 1), ('limited', 1), ('rights', 1), ('reserved.', 1), ('homelatesttrendingmy', 1), ('reads', 1), ('companiesmoneymarketsitr', 1), ('filingstart-upsmutual', 1), ('fundsnri', 1), ('investment', 1), ('queriesinsurancetechnologyindustryloungeopinionpoliticsmint', 1), ('fundsmark', 1), ('marketlong', 1), ('readsplain', 1), ('facts', 1), ('addresses', 1), ('(photo:', 1), ('ani)', 1), ('min', 1), ('.', 1), ('updated:', 1), ('aug', 1), ('10:13', 1), ('am', 1), ('ist', 1), ('writer', 1), ('speech,', 1), ('addressed', 1), ('fortpm', 1), ('conservation,', 1), ('full', 1), (':', 1), ('address', 1), ('after', 1), (\"year's\", 1), ('lok', 1), ('sabha', 1), ('elections', 1), ('today', 1), ('criminalising', 1), ('talaq,', 1), ('announced', 1), ('launch', 1), ('jeevan', 1), ('mission', 1), ('provide', 1), ('potable', 1), ('water.on', 1), ('economic', 1), ('front,', 1), ('confidence', 1), ('speech.', 1), ('stood', 1), ('support', 1), ('industrialists,', 1), ('saying', 1), ('creators', 1), ('eyed', 1), ('suspicion', 1), (\"country's\", 1), ('respected.also', 1), ('watch:', 1), ('i-day:', 1), ('here', 1), ('updates', 1), ('speech:7:30', 1), ('hoists', 1), ('tricolour', 1), ('fort.7:35', 1), ('began', 1), ('addressing', 1), ('extended', 1), ('greetings', 1), ('festival', 1), ('raksha', 1), ('bandhan', 1), ('concern', 1), ('flood-affected', 1), ('areas', 1), ('country.7:45', 1), ('\"today,', 1), ('when', 1), ('marking', 1), ('many', 1), ('citizens', 1), ('suffering', 1), ('due', 1), ('floods', 1), ('parts', 1), ('stand', 1), ('solidarity', 1), ('affected', 1), ('floods,\"', 1), ('speech.7:50', 1), ('lists', 1), ('welfare.', 1), ('within', 1), ('10', 1), ('major', 1), ('decisions', 1), ('nation.', 1), ('listed', 1), (\"government's\", 1), ('move', 1), ('revoke', 1), ('criminalise', 1), ('talaq', 1), ('farmers.7:52', 1), ('fully', 1), ('understands', 1), ('conservation', 1), ('why', 1), ('ministry', 1), ('shakti', 1), ('formed.', 1), ('medical', 1), ('sector', 1), ('even', 1), ('more', 1), ('friendly.7:55', 1), ('\"within', 1), ('removed', 1), ('370', 1), ('which', 1), ('years,\"', 1), ('modi.7:58', 1), ('doubt', 1), ('whether', 1), ('change.', 1), ('\"there', 1), (\"everyone's\", 1), ('face,', 1), ('think', 1), ('change?,\"', 1), ('modi.8:00', 1), ('\"in', 1), ('i', 1), ('amazed,', 1), ('mood', 1), ('changed,', 1), ('turned', 1), ('into', 1), ('optimism,', 1), ('dreams', 1), ('connected', 1), ('desire', 1), ('everyone', 1), ('same', 1), ('page', 1), ('change,\"', 1), ('modi.8:05', 1), ('\"now', 1), ('indian', 1), ('say', 1), ('confidently', 1), (\"'one\", 1), ('constitution\\',\"', 1), ('successfully', 1), ('removing', 1), ('370.8:10', 1), ('focus', 1), ('\"jal', 1), ('jivaan', 1), ('mission\"', 1), ('days.', 1), ('both', 1), ('central', 1), ('states', 1), ('work', 1), ('together', 1), ('mission.', 1), ('₹3.70', 1), ('mission.8:15', 1), ('increase', 1), ('understand', 1), ('birth', 1), ('control', 1), ('nation.8:17', 1), ('\"population', 1), ('problems', 1), ('generations.', 1), ('follow', 1), ('small', 1), ('family', 1), ('contribute', 1), ('form', 1), ('patriotism.', 1), ('there', 1), ('need', 1), ('social', 1), ('awareness', 1), ('country,\"', 1), ('modi.8:20', 1), ('longer', 1), ('happy', 1), ('plan', 1), ('railway', 1), ('station,', 1), ('want', 1), ('vande', 1), ('bharat', 1), ('express', 1), ('their', 1), ('area:', 1), ('modi8:23', 1), ('effort', 1), ('made', 1), ('remove', 1), ('corruption', 1), ('black', 1), ('welcome.', 1), ('these', 1), ('menaces', 1), ('ruined', 1), ('long', 1), ('always', 1), ('reward', 1), ('honesty:', 1), ('pm8:28', 1), ('ease', 1), ('business.', 1), ('lot', 1), ('improving', 1), (\"'easing\", 1), (\"business'.\", 1), ('but', 1), (\"that's\", 1), ('step.', 1), ('ultimate', 1), ('aim', 1), (\"'ease\", 1), ('living\\',\"', 1), ('modi.8:30', 1), ('₹100', 1), ('infrastructure', 1), ('roads,', 1), ('railways,', 1), ('bridges', 1), ('or', 1), ('hospitals.8:34', 1), ('modi.8:40', 1), ('today,', 1), ('stable,', 1), ('system', 1), ('predictable.', 1), ('world', 1), ('eager', 1), ('trade', 1), ('india.', 1), ('working', 1), ('keep', 1), ('prices', 1), ('under', 1), ('speed', 1), ('development.', 1), ('fundamentals', 1), ('strong.8:48', 1), ('decision', 1), ('chief', 1), ('defence', 1), ('position.', 1), ('important', 1), ('step,\"', 1), ('modi.8:53', 1), ('\"on', 1), ('october', 1), ('2,', 1), ('free', 1), ('single-use', 1), ('plastic.on', 1), ('diwali', 1), ('gift', 1), ('cloth', 1), ('bags', 1), ('instead', 1), ('plastics.', 1), ('advertisement', 1), ('as', 1), ('well,\"', 1), ('less', 1), ('plastic', 1), ('use.', 1), ('urged', 1), ('startups', 1), ('come', 1), ('ideas', 1), ('recycle', 1), ('plastics', 1), ('country.8:57', 1), ('creating', 1), ('100', 1), ('visit', 1), ('2022,\"', 1), ('modi.9:00', 1), ('land', 1), ('reduce', 1), ('use', 1), ('fertilisers', 1), ('10-15%,\"', 1), ('modi.9:14', 1), ('accord', 1), ('priority', 1), ('local', 1), ('products', 1), ('better', 1), ('tomorrow.-among', 1), ('ministers', 1), ('since', 1), ('1991,', 1), ('ones', 1), ('longest.', 1), ('average', 1), ('length', 1), ('8,000', 1), ('words,', 1), ('according', 1), (\"analysis.-today's\", 1), (\"day's\", 1), ('modi.', 1), ('late', 1), ('atal', 1), ('bihari', 1), ('vajpayee', 1), ('given', 1), ('six', 1), ('straight', 1), ('1998-2003.-twitter', 1), ('launched', 1), ('customised', 1), ('ashoka', 1), ('chakra.', 1), ('hashtags', 1), ('#indiaindependenceday', 1), ('#idayindia.-for', 1), ('time,', 1), ('cameras', 1), ('equipped', 1), ('facial', 1), ('recognition', 1), ('software', 1), ('identify', 1), ('suspects', 1), ('around', 1), ('adjoining', 1), ('areas.-delhi', 1), ('traffic', 1), ('issued', 1), ('advisory', 1), ('function', 1), ('fort.', 1), ('metro', 1), ('services', 1), ('normal', 1), ('august', 1), ('15,', 1), ('restrictions', 1), ('entry', 1), ('exit', 1), ('some', 1), ('stations', 1), ('violet', 1), ('line.-wing', 1), ('commander', 1), ('abhinandan', 1), ('varthaman,', 1), ('face', 1), ('tense', 1), ('military', 1), ('confrontation', 1), ('pakistan', 1), ('aftermath', 1), ('balakot', 1), ('air', 1), ('strike,', 1), ('conferred', 1), ('vir', 1), ('chakra', 1), ('close', 1), ('networkserver', 1), ('issueinternet', 1), ('availablewait', 1), ('it…log', 1), ('website', 1), ('save', 1), ('bookmarks.', 1), (\"it'll\", 1), ('take', 1), ('moment.yes,', 1), ('session', 1), ('expired,', 1), ('login', 1), ('again.yes,', 1), ('congratulations!you', 1), ('subscribed', 1), ('newsletters.', 1), ('case', 1), ('you', 1), ('can’t', 1), ('find', 1), ('any', 1), ('email', 1), ('side,', 1), ('spam', 1), ('folder.', 1)]\n"
     ]
    }
   ],
   "source": [
    "#print('Dictionary in descending order by value : ',sorted_d)\n",
    "print(data)"
   ]
  },
  {
   "cell_type": "code",
   "execution_count": 12,
   "metadata": {},
   "outputs": [],
   "source": [
    "#Create a Pandas dataframe for word frequency\n",
    "word_frequency = pd.DataFrame(data, columns = ['word', 'frequency'])"
   ]
  },
  {
   "cell_type": "code",
   "execution_count": 13,
   "metadata": {},
   "outputs": [
    {
     "data": {
      "text/html": [
       "<div>\n",
       "<style scoped>\n",
       "    .dataframe tbody tr th:only-of-type {\n",
       "        vertical-align: middle;\n",
       "    }\n",
       "\n",
       "    .dataframe tbody tr th {\n",
       "        vertical-align: top;\n",
       "    }\n",
       "\n",
       "    .dataframe thead th {\n",
       "        text-align: right;\n",
       "    }\n",
       "</style>\n",
       "<table border=\"1\" class=\"dataframe\">\n",
       "  <thead>\n",
       "    <tr style=\"text-align: right;\">\n",
       "      <th></th>\n",
       "      <th>word</th>\n",
       "      <th>frequency</th>\n",
       "    </tr>\n",
       "  </thead>\n",
       "  <tbody>\n",
       "    <tr>\n",
       "      <th>0</th>\n",
       "      <td>the</td>\n",
       "      <td>84</td>\n",
       "    </tr>\n",
       "    <tr>\n",
       "      <th>1</th>\n",
       "      <td>of</td>\n",
       "      <td>38</td>\n",
       "    </tr>\n",
       "    <tr>\n",
       "      <th>2</th>\n",
       "      <td>to</td>\n",
       "      <td>34</td>\n",
       "    </tr>\n",
       "    <tr>\n",
       "      <th>3</th>\n",
       "      <td>in</td>\n",
       "      <td>32</td>\n",
       "    </tr>\n",
       "    <tr>\n",
       "      <th>4</th>\n",
       "      <td>pm</td>\n",
       "      <td>24</td>\n",
       "    </tr>\n",
       "    <tr>\n",
       "      <th>5</th>\n",
       "      <td>am:</td>\n",
       "      <td>23</td>\n",
       "    </tr>\n",
       "    <tr>\n",
       "      <th>6</th>\n",
       "      <td>a</td>\n",
       "      <td>22</td>\n",
       "    </tr>\n",
       "    <tr>\n",
       "      <th>7</th>\n",
       "      <td>modi</td>\n",
       "      <td>19</td>\n",
       "    </tr>\n",
       "    <tr>\n",
       "      <th>8</th>\n",
       "      <td>for</td>\n",
       "      <td>17</td>\n",
       "    </tr>\n",
       "    <tr>\n",
       "      <th>9</th>\n",
       "      <td>and</td>\n",
       "      <td>16</td>\n",
       "    </tr>\n",
       "    <tr>\n",
       "      <th>10</th>\n",
       "      <td>independence</td>\n",
       "      <td>15</td>\n",
       "    </tr>\n",
       "    <tr>\n",
       "      <th>11</th>\n",
       "      <td>on</td>\n",
       "      <td>13</td>\n",
       "    </tr>\n",
       "    <tr>\n",
       "      <th>12</th>\n",
       "      <td>trillion</td>\n",
       "      <td>12</td>\n",
       "    </tr>\n",
       "    <tr>\n",
       "      <th>13</th>\n",
       "      <td>are</td>\n",
       "      <td>12</td>\n",
       "    </tr>\n",
       "    <tr>\n",
       "      <th>14</th>\n",
       "      <td>be</td>\n",
       "      <td>11</td>\n",
       "    </tr>\n",
       "    <tr>\n",
       "      <th>15</th>\n",
       "      <td>with</td>\n",
       "      <td>10</td>\n",
       "    </tr>\n",
       "    <tr>\n",
       "      <th>16</th>\n",
       "      <td>we</td>\n",
       "      <td>10</td>\n",
       "    </tr>\n",
       "    <tr>\n",
       "      <th>17</th>\n",
       "      <td>country</td>\n",
       "      <td>10</td>\n",
       "    </tr>\n",
       "    <tr>\n",
       "      <th>18</th>\n",
       "      <td>says</td>\n",
       "      <td>10</td>\n",
       "    </tr>\n",
       "    <tr>\n",
       "      <th>19</th>\n",
       "      <td>day</td>\n",
       "      <td>9</td>\n",
       "    </tr>\n",
       "    <tr>\n",
       "      <th>20</th>\n",
       "      <td>prime</td>\n",
       "      <td>9</td>\n",
       "    </tr>\n",
       "    <tr>\n",
       "      <th>21</th>\n",
       "      <td>narendra</td>\n",
       "      <td>9</td>\n",
       "    </tr>\n",
       "    <tr>\n",
       "      <th>22</th>\n",
       "      <td>will</td>\n",
       "      <td>9</td>\n",
       "    </tr>\n",
       "    <tr>\n",
       "      <th>23</th>\n",
       "      <td>is</td>\n",
       "      <td>9</td>\n",
       "    </tr>\n",
       "    <tr>\n",
       "      <th>24</th>\n",
       "      <td>can</td>\n",
       "      <td>8</td>\n",
       "    </tr>\n",
       "  </tbody>\n",
       "</table>\n",
       "</div>"
      ],
      "text/plain": [
       "            word  frequency\n",
       "0            the         84\n",
       "1             of         38\n",
       "2             to         34\n",
       "3             in         32\n",
       "4             pm         24\n",
       "5            am:         23\n",
       "6              a         22\n",
       "7           modi         19\n",
       "8            for         17\n",
       "9            and         16\n",
       "10  independence         15\n",
       "11            on         13\n",
       "12      trillion         12\n",
       "13           are         12\n",
       "14            be         11\n",
       "15          with         10\n",
       "16            we         10\n",
       "17       country         10\n",
       "18          says         10\n",
       "19           day          9\n",
       "20         prime          9\n",
       "21      narendra          9\n",
       "22          will          9\n",
       "23            is          9\n",
       "24           can          8"
      ]
     },
     "execution_count": 13,
     "metadata": {},
     "output_type": "execute_result"
    }
   ],
   "source": [
    "#Tabular data\n",
    "word_frequency.head(25)"
   ]
  },
  {
   "cell_type": "code",
   "execution_count": 14,
   "metadata": {},
   "outputs": [
    {
     "data": {
      "text/plain": [
       "<matplotlib.axes._subplots.AxesSubplot at 0x15238bdf588>"
      ]
     },
     "execution_count": 14,
     "metadata": {},
     "output_type": "execute_result"
    },
    {
     "data": {
      "image/png": "[encoded data removed]",
      "text/plain": [
       "<Figure size 432x288 with 1 Axes>"
      ]
     },
     "metadata": {
      "needs_background": "light"
     },
     "output_type": "display_data"
    }
   ],
   "source": [
    "#Word frequency as bar chart\n",
    "word_frequency[0:10].plot.bar('word', 'frequency')"
   ]
  },
  {
   "cell_type": "code",
   "execution_count": 15,
   "metadata": {},
   "outputs": [],
   "source": [
    "#Get cleaned tokens\n",
    "#Get the token\n",
    "tokens = [tok for tok in soup.get_text().split()]\n",
    "stop_words = ['>>>','and','to','the','for', 'is','of', '#','=','a','in','The', 'i', 'I', 'they', 'you', 'i', 'we', 'that', 'have','our', 'it', 'it’s','are','they','but','this', 'not', 'going', 'be', 'he', 'we’re', 'all', 'because', 'am', 'pm','says']\n",
    "tokens_modi_clean = []\n",
    "for token in tokens:\n",
    "    if token in stop_words:\n",
    "        pass\n",
    "    else:\n",
    "        tokens_modi_clean.append(token)\n",
    "\n",
    "#normalizing the data in tokens cleaned\n",
    "fnTokens = []\n",
    "for token in tokens_modi_clean:\n",
    "    fnTokens.append(token.lower())"
   ]
  },
  {
   "cell_type": "code",
   "execution_count": 16,
   "metadata": {},
   "outputs": [
    {
     "name": "stdout",
     "output_type": "stream",
     "text": [
      "[('pm', 24), ('am:', 23), ('modi', 19), ('independence', 15), ('on', 13), ('trillion', 12), ('with', 10), ('country', 10), ('day', 9), ('prime', 9), ('narendra', 9), ('will', 9), ('can', 8), ('minister', 8), ('his', 8), ('people', 8), ('india', 7), ('economy', 7), ('nation', 7), ('was', 7), ('also', 7), ('$5', 6), ('article', 6), ('new', 6), ('mint', 5)]\n"
     ]
    }
   ],
   "source": [
    "new_tokens = wordfreq(tokens_modi_clean)\n",
    "data = sort_tokens(new_tokens)\n",
    "print(data[:25])"
   ]
  },
  {
   "cell_type": "code",
   "execution_count": 17,
   "metadata": {},
   "outputs": [],
   "source": [
    "#Create a Pandas dataframe for word frequency\n",
    "word_frequency = pd.DataFrame(data, columns = ['word', 'frequency'])"
   ]
  },
  {
   "cell_type": "code",
   "execution_count": 18,
   "metadata": {},
   "outputs": [
    {
     "name": "stdout",
     "output_type": "stream",
     "text": [
      "['PM', \"Modi's\", 'Independence', 'Day', 'speech', 'highlights:', 'India', 'can', '$5', 'trillion', 'economy', '5', 'years', 'Explore', 'e-paperNew', 'Saturday,', '7', 'September', '2019', 'Log']\n"
     ]
    }
   ],
   "source": [
    "print(tokens_modi_clean[0:20])"
   ]
  },
  {
   "cell_type": "code",
   "execution_count": 19,
   "metadata": {},
   "outputs": [
    {
     "data": {
      "image/png": "[encoded data removed]",
      "text/plain": [
       "<Figure size 432x288 with 1 Axes>"
      ]
     },
     "metadata": {
      "needs_background": "light"
     },
     "output_type": "display_data"
    }
   ],
   "source": [
    "#Visualize word frequency\n",
    "wordcloud = WordCloud(stopwords=stopwords, relative_scaling=1.0).generate(''.join(tokens_modi_clean))\n",
    "plot_wordcloud(wordcloud)"
   ]
  },
  {
   "cell_type": "code",
   "execution_count": null,
   "metadata": {},
   "outputs": [],
   "source": []
  }
 ],
 "metadata": {
  "kernelspec": {
   "display_name": "Python 3",
   "language": "python",
   "name": "python3"
  },
  "language_info": {
   "codemirror_mode": {
    "name": "ipython",
    "version": 3
   },
   "file_extension": ".py",
   "mimetype": "text/x-python",
   "name": "python",
   "nbconvert_exporter": "python",
   "pygments_lexer": "ipython3",
   "version": "3.6.8"
  }
 },
 "nbformat": 4,
 "nbformat_minor": 2
}
