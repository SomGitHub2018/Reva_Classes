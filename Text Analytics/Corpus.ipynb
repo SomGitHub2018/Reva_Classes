{
 "cells": [
  {
   "cell_type": "markdown",
   "metadata": {},
   "source": [
    "ACCESS -> Tokenize -> Normalize -> STOP Word List\n",
    "                EXPLORE \n",
    "    Word Cloud            Word Frequency"
   ]
  },
  {
   "cell_type": "code",
   "execution_count": 1,
   "metadata": {},
   "outputs": [],
   "source": [
    "%matplotlib inline\n",
    "from IPython.core.interactiveshell import InteractiveShell \n",
    "InteractiveShell.ast_node_interactivity = \"all\""
   ]
  },
  {
   "cell_type": "code",
   "execution_count": 30,
   "metadata": {},
   "outputs": [
    {
     "name": "stdout",
     "output_type": "stream",
     "text": [
      " India is good\n"
     ]
    }
   ],
   "source": [
    "#Access Corpus\n",
    "#Hard coded corpus\n",
    "v1 = \" India is good\"\n",
    "print(v1)"
   ]
  },
  {
   "cell_type": "code",
   "execution_count": 31,
   "metadata": {},
   "outputs": [],
   "source": [
    "file_path=\"C:\\\\Users\\\\Somesh\\\\Jupyter_Python\\\\JBS_Practicals\\\\Data_Analytics\\Text.csv\"\n",
    "file_handle = open(file_path,\"r\")"
   ]
  },
  {
   "cell_type": "code",
   "execution_count": 32,
   "metadata": {},
   "outputs": [],
   "source": [
    "data = file_handle.readlines()"
   ]
  },
  {
   "cell_type": "code",
   "execution_count": 33,
   "metadata": {},
   "outputs": [
    {
     "name": "stdout",
     "output_type": "stream",
     "text": [
      "['India is Good\\n', 'World is Good\\n', 'India Is Good\\n']\n"
     ]
    }
   ],
   "source": [
    "print(data)"
   ]
  },
  {
   "cell_type": "code",
   "execution_count": 34,
   "metadata": {},
   "outputs": [
    {
     "name": "stdout",
     "output_type": "stream",
     "text": [
      "India is Good\n",
      "\n",
      "<class 'str'>\n",
      "['India', 'is', 'Good']\n",
      "World is Good\n",
      "\n",
      "<class 'str'>\n",
      "['World', 'is', 'Good']\n",
      "India Is Good\n",
      "\n",
      "<class 'str'>\n",
      "['India', 'Is', 'Good']\n"
     ]
    }
   ],
   "source": [
    "for record in data:\n",
    "    print(record)\n",
    "    print(type(record))\n",
    "    print(record.split())"
   ]
  },
  {
   "cell_type": "code",
   "execution_count": 35,
   "metadata": {},
   "outputs": [],
   "source": [
    "tokens = []"
   ]
  },
  {
   "cell_type": "code",
   "execution_count": 36,
   "metadata": {},
   "outputs": [],
   "source": [
    "for record in data:\n",
    "    tokens.append(record.split())"
   ]
  },
  {
   "cell_type": "code",
   "execution_count": 37,
   "metadata": {},
   "outputs": [
    {
     "data": {
      "text/plain": [
       "[['India', 'is', 'Good'], ['World', 'is', 'Good'], ['India', 'Is', 'Good']]"
      ]
     },
     "execution_count": 37,
     "metadata": {},
     "output_type": "execute_result"
    }
   ],
   "source": [
    "tokens"
   ]
  },
  {
   "cell_type": "code",
   "execution_count": 38,
   "metadata": {},
   "outputs": [
    {
     "name": "stdout",
     "output_type": "stream",
     "text": [
      "['India is Good\\n', 'World is Good\\n', 'India Is Good\\n']\n"
     ]
    }
   ],
   "source": [
    "print(data)"
   ]
  },
  {
   "cell_type": "code",
   "execution_count": 39,
   "metadata": {},
   "outputs": [],
   "source": [
    "#create an empty list\n",
    "tokens = []"
   ]
  },
  {
   "cell_type": "code",
   "execution_count": 40,
   "metadata": {},
   "outputs": [],
   "source": [
    "#for each record split and append to tokens list\n",
    "for record in data:\n",
    "    toks = record.split()\n",
    "    tokens.append(toks)"
   ]
  },
  {
   "cell_type": "code",
   "execution_count": 41,
   "metadata": {},
   "outputs": [
    {
     "data": {
      "text/plain": [
       "[['India', 'is', 'Good'], ['World', 'is', 'Good'], ['India', 'Is', 'Good']]"
      ]
     },
     "execution_count": 41,
     "metadata": {},
     "output_type": "execute_result"
    }
   ],
   "source": [
    "tokens"
   ]
  },
  {
   "cell_type": "code",
   "execution_count": 42,
   "metadata": {},
   "outputs": [],
   "source": [
    "#stop word removal\n",
    "stopWordList = ['i','is','am']"
   ]
  },
  {
   "cell_type": "code",
   "execution_count": 43,
   "metadata": {},
   "outputs": [
    {
     "name": "stdout",
     "output_type": "stream",
     "text": [
      "['i', 'is', 'am']\n"
     ]
    }
   ],
   "source": [
    "print(stopWordList)"
   ]
  },
  {
   "cell_type": "code",
   "execution_count": 44,
   "metadata": {},
   "outputs": [],
   "source": [
    "#Remove the stop words from tokens\n",
    "ref_corpous = []\n",
    "for record in tokens:\n",
    "    new_record = []\n",
    "    for word in record:\n",
    "        if(word in stopWordList):\n",
    "               pass\n",
    "        else:\n",
    "            new_record.append(word)          \n",
    "    ref_corpous.append(new_record)"
   ]
  },
  {
   "cell_type": "code",
   "execution_count": 45,
   "metadata": {},
   "outputs": [
    {
     "data": {
      "text/plain": [
       "[['India', 'Good'], ['World', 'Good'], ['India', 'Is', 'Good']]"
      ]
     },
     "execution_count": 45,
     "metadata": {},
     "output_type": "execute_result"
    }
   ],
   "source": [
    "ref_corpous"
   ]
  },
  {
   "cell_type": "code",
   "execution_count": 57,
   "metadata": {},
   "outputs": [
    {
     "name": "stdout",
     "output_type": "stream",
     "text": [
      " India is Good\n",
      " World is Good\n"
     ]
    }
   ],
   "source": [
    "v1 = \" India is Good\"\n",
    "v2 = \" World is Good\"\n",
    "print(v1)\n",
    "print(v2)"
   ]
  },
  {
   "cell_type": "code",
   "execution_count": 58,
   "metadata": {},
   "outputs": [
    {
     "name": "stdout",
     "output_type": "stream",
     "text": [
      "['India', 'is', 'Good']\n"
     ]
    }
   ],
   "source": [
    "print(v1.split())"
   ]
  },
  {
   "cell_type": "code",
   "execution_count": 59,
   "metadata": {},
   "outputs": [
    {
     "name": "stdout",
     "output_type": "stream",
     "text": [
      "india\n",
      "is\n",
      "good\n"
     ]
    }
   ],
   "source": [
    "for word in v1.split():\n",
    "    print(word.lower())"
   ]
  },
  {
   "cell_type": "code",
   "execution_count": 60,
   "metadata": {},
   "outputs": [
    {
     "name": "stdout",
     "output_type": "stream",
     "text": [
      " India is Good\n",
      " World is Good\n",
      "['India', 'is', 'Good']\n",
      "['World', 'is', 'Good']\n",
      "['India', 'is', 'Good']\n",
      "['India', 'is', 'Good', 'World']\n"
     ]
    }
   ],
   "source": [
    "# Build BOW columns list\n",
    "# Declare an empty word list\n",
    "word_list = []\n",
    "\n",
    "# For every sentence\n",
    "# Split the sentence\n",
    "V1s = v1.split()\n",
    "V2s = v2.split()   \n",
    "print(v1)\n",
    "print(v2)\n",
    "print(V1s)\n",
    "print(V2s)\n",
    "\n",
    "# For every word in the word list of split sentence check its availablity in word list\n",
    "# if word is available in word list PASS\n",
    "# else append the word list\n",
    "\n",
    "for word in V1s:\n",
    "    if word in word_list:\n",
    "        pass\n",
    "    else:\n",
    "        word_list.append(word)\n",
    "print(word_list)\n",
    "\n",
    "for word in V2s:\n",
    "    if word in word_list:\n",
    "        pass\n",
    "    else:\n",
    "        word_list.append(word)\n",
    "print(word_list)"
   ]
  },
  {
   "cell_type": "code",
   "execution_count": 67,
   "metadata": {},
   "outputs": [
    {
     "name": "stdout",
     "output_type": "stream",
     "text": [
      "['India', 'is', 'Good', 'World']\n",
      "[[1, 1, 1, 0], [0, 1, 1, 1]]\n"
     ]
    }
   ],
   "source": [
    "# Build BOW martix\n",
    "bow_matrix = []\n",
    "# for each sentence \n",
    "#Create the bow vector\n",
    "bow_vector = []\n",
    "print(word_list)\n",
    "# split the sentence\n",
    "# for each word in sentence, if word is in BOW matrix set 1 else set 0\n",
    "for word in word_list:\n",
    "    if word in V1s:\n",
    "        bow_vector.append(1)\n",
    "    else:\n",
    "        bow_vector.append(0)   \n",
    "bow_matrix.append(bow_vector)\n",
    "\n",
    "bow_vector = []\n",
    "# split the sentence\n",
    "# for each word in sentence, if word is in BOW matrix set 1 else set 0\n",
    "for word in word_list:\n",
    "    if word in V2s:\n",
    "        bow_vector.append(1)\n",
    "    else:\n",
    "        bow_vector.append(0)   \n",
    "bow_matrix.append(bow_vector)\n",
    "print(bow_matrix)"
   ]
  },
  {
   "cell_type": "code",
   "execution_count": null,
   "metadata": {},
   "outputs": [],
   "source": []
  }
 ],
 "metadata": {
  "kernelspec": {
   "display_name": "Python 3",
   "language": "python",
   "name": "python3"
  },
  "language_info": {
   "codemirror_mode": {
    "name": "ipython",
    "version": 3
   },
   "file_extension": ".py",
   "mimetype": "text/x-python",
   "name": "python",
   "nbconvert_exporter": "python",
   "pygments_lexer": "ipython3",
   "version": "3.6.8"
  }
 },
 "nbformat": 4,
 "nbformat_minor": 2
}
