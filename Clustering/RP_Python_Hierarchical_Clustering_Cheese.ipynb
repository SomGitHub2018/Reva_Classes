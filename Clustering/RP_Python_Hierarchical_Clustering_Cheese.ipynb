{
 "cells": [
  {
   "cell_type": "markdown",
   "metadata": {},
   "source": [
    "Hierarchical Clustering as the name suggests is an algorithm that builds hierarchy of clusters. This algorithm starts with all the data points assigned to a cluster of their own. Then two nearest clusters are merged into the same cluster. In the end, this algorithm terminates when there is only a single cluster left."
   ]
  },
  {
   "cell_type": "code",
   "execution_count": 1,
   "metadata": {},
   "outputs": [],
   "source": [
    "import numpy as np\n",
    "import pandas as pd\n",
    "from matplotlib import pyplot as plt\n",
    "import seaborn as sns\n",
    "from sklearn.model_selection import train_test_split\n",
    "#Lets build clusters\n",
    "from scipy.cluster.hierarchy import linkage, dendrogram, fcluster\n",
    "\n",
    "import warnings\n",
    "warnings.filterwarnings('ignore')\n",
    "%matplotlib inline\n"
   ]
  },
  {
   "cell_type": "code",
   "execution_count": 2,
   "metadata": {},
   "outputs": [],
   "source": [
    "#print multiple statements in same line\n",
    "from IPython.core.interactiveshell import InteractiveShell\n",
    "InteractiveShell.ast_node_interactivity =\"all\""
   ]
  },
  {
   "cell_type": "markdown",
   "metadata": {},
   "source": [
    "Panel data with sales volume for a package of Borden Sliced Cheese as well as a measure of display activity and price. Weekly data aggregated to the \"key\" account or retailer/market level.\n",
    "\n",
    "A data frame with 5555 observations on the following 4 variables:\n",
    "\n",
    "...$RETAILER\ta list of 88 retailers\n",
    "\n",
    "...$VOLUME\tunit sales\n",
    "\n",
    "...$DISP\tpercent ACV on display (a measure of advertising display activity)\n",
    "\n",
    "...$PRICE\tin U.S. dollars"
   ]
  },
  {
   "cell_type": "code",
   "execution_count": 3,
   "metadata": {},
   "outputs": [
    {
     "data": {
      "text/html": [
       "<div>\n",
       "<style scoped>\n",
       "    .dataframe tbody tr th:only-of-type {\n",
       "        vertical-align: middle;\n",
       "    }\n",
       "\n",
       "    .dataframe tbody tr th {\n",
       "        vertical-align: top;\n",
       "    }\n",
       "\n",
       "    .dataframe thead th {\n",
       "        text-align: right;\n",
       "    }\n",
       "</style>\n",
       "<table border=\"1\" class=\"dataframe\">\n",
       "  <thead>\n",
       "    <tr style=\"text-align: right;\">\n",
       "      <th></th>\n",
       "      <th>RETAILER</th>\n",
       "      <th>VOLUME</th>\n",
       "      <th>DISP</th>\n",
       "      <th>PRICE</th>\n",
       "    </tr>\n",
       "  </thead>\n",
       "  <tbody>\n",
       "    <tr>\n",
       "      <th>1</th>\n",
       "      <td>LOS ANGELES - LUCKY</td>\n",
       "      <td>21374</td>\n",
       "      <td>0.162000</td>\n",
       "      <td>2.578460</td>\n",
       "    </tr>\n",
       "    <tr>\n",
       "      <th>2</th>\n",
       "      <td>LOS ANGELES - RALPHS</td>\n",
       "      <td>6427</td>\n",
       "      <td>0.124113</td>\n",
       "      <td>3.727867</td>\n",
       "    </tr>\n",
       "    <tr>\n",
       "      <th>3</th>\n",
       "      <td>LOS ANGELES - VONS</td>\n",
       "      <td>17302</td>\n",
       "      <td>0.102000</td>\n",
       "      <td>2.711421</td>\n",
       "    </tr>\n",
       "    <tr>\n",
       "      <th>4</th>\n",
       "      <td>CHICAGO - DOMINICK</td>\n",
       "      <td>13561</td>\n",
       "      <td>0.027591</td>\n",
       "      <td>2.651206</td>\n",
       "    </tr>\n",
       "    <tr>\n",
       "      <th>5</th>\n",
       "      <td>CHICAGO - JEWEL</td>\n",
       "      <td>42774</td>\n",
       "      <td>0.090613</td>\n",
       "      <td>1.986674</td>\n",
       "    </tr>\n",
       "  </tbody>\n",
       "</table>\n",
       "</div>"
      ],
      "text/plain": [
       "               RETAILER  VOLUME      DISP     PRICE\n",
       "1   LOS ANGELES - LUCKY   21374  0.162000  2.578460\n",
       "2  LOS ANGELES - RALPHS    6427  0.124113  3.727867\n",
       "3    LOS ANGELES - VONS   17302  0.102000  2.711421\n",
       "4    CHICAGO - DOMINICK   13561  0.027591  2.651206\n",
       "5       CHICAGO - JEWEL   42774  0.090613  1.986674"
      ]
     },
     "execution_count": 3,
     "metadata": {},
     "output_type": "execute_result"
    },
    {
     "data": {
      "text/plain": [
       "(5555, 4)"
      ]
     },
     "execution_count": 3,
     "metadata": {},
     "output_type": "execute_result"
    },
    {
     "name": "stdout",
     "output_type": "stream",
     "text": [
      "\n"
     ]
    },
    {
     "data": {
      "text/html": [
       "<div>\n",
       "<style scoped>\n",
       "    .dataframe tbody tr th:only-of-type {\n",
       "        vertical-align: middle;\n",
       "    }\n",
       "\n",
       "    .dataframe tbody tr th {\n",
       "        vertical-align: top;\n",
       "    }\n",
       "\n",
       "    .dataframe thead th {\n",
       "        text-align: right;\n",
       "    }\n",
       "</style>\n",
       "<table border=\"1\" class=\"dataframe\">\n",
       "  <thead>\n",
       "    <tr style=\"text-align: right;\">\n",
       "      <th></th>\n",
       "      <th>DISP</th>\n",
       "      <th>PRICE</th>\n",
       "      <th>VOLUME</th>\n",
       "    </tr>\n",
       "    <tr>\n",
       "      <th>RETAILER</th>\n",
       "      <th></th>\n",
       "      <th></th>\n",
       "      <th></th>\n",
       "    </tr>\n",
       "  </thead>\n",
       "  <tbody>\n",
       "    <tr>\n",
       "      <th>ALBANY,NY - PRICE CHOPPER</th>\n",
       "      <td>0.000000</td>\n",
       "      <td>2.864821</td>\n",
       "      <td>717.0</td>\n",
       "    </tr>\n",
       "    <tr>\n",
       "      <th>ATLANTA - KROGER CO</th>\n",
       "      <td>0.030872</td>\n",
       "      <td>2.701700</td>\n",
       "      <td>4455.0</td>\n",
       "    </tr>\n",
       "    <tr>\n",
       "      <th>ATLANTA - WINN DIXIE</th>\n",
       "      <td>0.000000</td>\n",
       "      <td>2.692330</td>\n",
       "      <td>2848.0</td>\n",
       "    </tr>\n",
       "    <tr>\n",
       "      <th>BALTI/WASH - GIANT FOOD INC</th>\n",
       "      <td>0.000000</td>\n",
       "      <td>3.783658</td>\n",
       "      <td>4337.0</td>\n",
       "    </tr>\n",
       "    <tr>\n",
       "      <th>BALTI/WASH - SAFEWAY</th>\n",
       "      <td>0.000000</td>\n",
       "      <td>3.987125</td>\n",
       "      <td>3832.0</td>\n",
       "    </tr>\n",
       "  </tbody>\n",
       "</table>\n",
       "</div>"
      ],
      "text/plain": [
       "                                 DISP     PRICE  VOLUME\n",
       "RETAILER                                               \n",
       "ALBANY,NY - PRICE CHOPPER    0.000000  2.864821   717.0\n",
       "ATLANTA - KROGER CO          0.030872  2.701700  4455.0\n",
       "ATLANTA - WINN DIXIE         0.000000  2.692330  2848.0\n",
       "BALTI/WASH - GIANT FOOD INC  0.000000  3.783658  4337.0\n",
       "BALTI/WASH - SAFEWAY         0.000000  3.987125  3832.0"
      ]
     },
     "execution_count": 3,
     "metadata": {},
     "output_type": "execute_result"
    },
    {
     "data": {
      "text/plain": [
       "(88, 3)"
      ]
     },
     "execution_count": 3,
     "metadata": {},
     "output_type": "execute_result"
    }
   ],
   "source": [
    "#import CSV file\n",
    "df=pd.read_csv('Cheese.csv')\n",
    "df.head()\n",
    "df.shape\n",
    "print()\n",
    "\n",
    "#Aggregate infromation at the store level\n",
    "df_pivot = pd.pivot_table(df,values=['VOLUME','DISP','PRICE'], index='RETAILER', aggfunc=np.median)\n",
    "df_pivot.head()\n",
    "df_pivot.shape"
   ]
  },
  {
   "cell_type": "code",
   "execution_count": 4,
   "metadata": {},
   "outputs": [
    {
     "data": {
      "text/html": [
       "<div>\n",
       "<style scoped>\n",
       "    .dataframe tbody tr th:only-of-type {\n",
       "        vertical-align: middle;\n",
       "    }\n",
       "\n",
       "    .dataframe tbody tr th {\n",
       "        vertical-align: top;\n",
       "    }\n",
       "\n",
       "    .dataframe thead th {\n",
       "        text-align: right;\n",
       "    }\n",
       "</style>\n",
       "<table border=\"1\" class=\"dataframe\">\n",
       "  <thead>\n",
       "    <tr style=\"text-align: right;\">\n",
       "      <th></th>\n",
       "      <th>DISP</th>\n",
       "      <th>PRICE</th>\n",
       "      <th>VOLUME</th>\n",
       "    </tr>\n",
       "  </thead>\n",
       "  <tbody>\n",
       "    <tr>\n",
       "      <th>0</th>\n",
       "      <td>0.000000</td>\n",
       "      <td>0.318908</td>\n",
       "      <td>0.017176</td>\n",
       "    </tr>\n",
       "    <tr>\n",
       "      <th>1</th>\n",
       "      <td>0.073857</td>\n",
       "      <td>0.250296</td>\n",
       "      <td>0.285807</td>\n",
       "    </tr>\n",
       "    <tr>\n",
       "      <th>2</th>\n",
       "      <td>0.000000</td>\n",
       "      <td>0.246355</td>\n",
       "      <td>0.170320</td>\n",
       "    </tr>\n",
       "    <tr>\n",
       "      <th>3</th>\n",
       "      <td>0.000000</td>\n",
       "      <td>0.705388</td>\n",
       "      <td>0.277327</td>\n",
       "    </tr>\n",
       "    <tr>\n",
       "      <th>4</th>\n",
       "      <td>0.000000</td>\n",
       "      <td>0.790969</td>\n",
       "      <td>0.241035</td>\n",
       "    </tr>\n",
       "  </tbody>\n",
       "</table>\n",
       "</div>"
      ],
      "text/plain": [
       "       DISP     PRICE    VOLUME\n",
       "0  0.000000  0.318908  0.017176\n",
       "1  0.073857  0.250296  0.285807\n",
       "2  0.000000  0.246355  0.170320\n",
       "3  0.000000  0.705388  0.277327\n",
       "4  0.000000  0.790969  0.241035"
      ]
     },
     "execution_count": 4,
     "metadata": {},
     "output_type": "execute_result"
    },
    {
     "data": {
      "text/html": [
       "<div>\n",
       "<style scoped>\n",
       "    .dataframe tbody tr th:only-of-type {\n",
       "        vertical-align: middle;\n",
       "    }\n",
       "\n",
       "    .dataframe tbody tr th {\n",
       "        vertical-align: top;\n",
       "    }\n",
       "\n",
       "    .dataframe thead th {\n",
       "        text-align: right;\n",
       "    }\n",
       "</style>\n",
       "<table border=\"1\" class=\"dataframe\">\n",
       "  <thead>\n",
       "    <tr style=\"text-align: right;\">\n",
       "      <th></th>\n",
       "      <th>DISP</th>\n",
       "      <th>PRICE</th>\n",
       "      <th>VOLUME</th>\n",
       "    </tr>\n",
       "  </thead>\n",
       "  <tbody>\n",
       "    <tr>\n",
       "      <th>count</th>\n",
       "      <td>88.000000</td>\n",
       "      <td>88.000000</td>\n",
       "      <td>88.000000</td>\n",
       "    </tr>\n",
       "    <tr>\n",
       "      <th>mean</th>\n",
       "      <td>0.201006</td>\n",
       "      <td>0.337239</td>\n",
       "      <td>0.252149</td>\n",
       "    </tr>\n",
       "    <tr>\n",
       "      <th>std</th>\n",
       "      <td>0.234245</td>\n",
       "      <td>0.214843</td>\n",
       "      <td>0.204063</td>\n",
       "    </tr>\n",
       "    <tr>\n",
       "      <th>min</th>\n",
       "      <td>0.000000</td>\n",
       "      <td>0.000000</td>\n",
       "      <td>0.000000</td>\n",
       "    </tr>\n",
       "    <tr>\n",
       "      <th>25%</th>\n",
       "      <td>0.000000</td>\n",
       "      <td>0.173638</td>\n",
       "      <td>0.105704</td>\n",
       "    </tr>\n",
       "    <tr>\n",
       "      <th>50%</th>\n",
       "      <td>0.099057</td>\n",
       "      <td>0.254668</td>\n",
       "      <td>0.217822</td>\n",
       "    </tr>\n",
       "    <tr>\n",
       "      <th>75%</th>\n",
       "      <td>0.343301</td>\n",
       "      <td>0.456079</td>\n",
       "      <td>0.326105</td>\n",
       "    </tr>\n",
       "    <tr>\n",
       "      <th>max</th>\n",
       "      <td>1.000000</td>\n",
       "      <td>1.000000</td>\n",
       "      <td>1.000000</td>\n",
       "    </tr>\n",
       "  </tbody>\n",
       "</table>\n",
       "</div>"
      ],
      "text/plain": [
       "            DISP      PRICE     VOLUME\n",
       "count  88.000000  88.000000  88.000000\n",
       "mean    0.201006   0.337239   0.252149\n",
       "std     0.234245   0.214843   0.204063\n",
       "min     0.000000   0.000000   0.000000\n",
       "25%     0.000000   0.173638   0.105704\n",
       "50%     0.099057   0.254668   0.217822\n",
       "75%     0.343301   0.456079   0.326105\n",
       "max     1.000000   1.000000   1.000000"
      ]
     },
     "execution_count": 4,
     "metadata": {},
     "output_type": "execute_result"
    },
    {
     "data": {
      "text/plain": [
       "(88, 3)"
      ]
     },
     "execution_count": 4,
     "metadata": {},
     "output_type": "execute_result"
    }
   ],
   "source": [
    "#Scale all values between 0 and 1\n",
    "from sklearn.preprocessing import MinMaxScaler \n",
    "scld = MinMaxScaler(feature_range=(0,1))\n",
    "arr_scld = scld.fit_transform(df_pivot)\n",
    "df_scld = pd.DataFrame(arr_scld, columns=df_pivot.columns)\n",
    "df_scld.head()\n",
    "df_scld.describe()\n",
    "df_scld.shape"
   ]
  },
  {
   "cell_type": "code",
   "execution_count": 5,
   "metadata": {},
   "outputs": [
    {
     "data": {
      "text/plain": [
       "numpy.ndarray"
      ]
     },
     "execution_count": 5,
     "metadata": {},
     "output_type": "execute_result"
    },
    {
     "data": {
      "text/plain": [
       "(87, 4)"
      ]
     },
     "execution_count": 5,
     "metadata": {},
     "output_type": "execute_result"
    },
    {
     "data": {
      "text/plain": [
       "array([[5.70000000e+01, 8.50000000e+01, 1.89857462e-02, 2.00000000e+00],\n",
       "       [0.00000000e+00, 8.20000000e+01, 2.16806904e-02, 2.00000000e+00],\n",
       "       [2.20000000e+01, 2.60000000e+01, 2.16823987e-02, 2.00000000e+00],\n",
       "       [9.00000000e+00, 3.90000000e+01, 3.62917719e-02, 2.00000000e+00]])"
      ]
     },
     "execution_count": 5,
     "metadata": {},
     "output_type": "execute_result"
    }
   ],
   "source": [
    "dist = linkage(df_scld,'ward')\n",
    "type(dist)\n",
    "dist.shape\n",
    "dist[0:4]"
   ]
  },
  {
   "cell_type": "markdown",
   "metadata": {},
   "source": [
    "The decision of the no. of clusters that can best depict different groups can be chosen by observing the dendrogram. The best choice of the no. of clusters is the no. of vertical lines in the dendrogram cut by a horizontal line that can transverse the maximum distance vertically without intersecting a cluster."
   ]
  },
  {
   "cell_type": "code",
   "execution_count": 6,
   "metadata": {},
   "outputs": [
    {
     "data": {
      "text/plain": [
       "{'icoord': [[15.0, 15.0, 25.0, 25.0],\n",
       "  [5.0, 5.0, 20.0, 20.0],\n",
       "  [45.0, 45.0, 55.0, 55.0],\n",
       "  [35.0, 35.0, 50.0, 50.0],\n",
       "  [75.0, 75.0, 85.0, 85.0],\n",
       "  [65.0, 65.0, 80.0, 80.0],\n",
       "  [42.5, 42.5, 72.5, 72.5],\n",
       "  [12.5, 12.5, 57.5, 57.5],\n",
       "  [95.0, 95.0, 105.0, 105.0],\n",
       "  [135.0, 135.0, 145.0, 145.0],\n",
       "  [125.0, 125.0, 140.0, 140.0],\n",
       "  [115.0, 115.0, 132.5, 132.5],\n",
       "  [100.0, 100.0, 123.75, 123.75],\n",
       "  [175.0, 175.0, 185.0, 185.0],\n",
       "  [165.0, 165.0, 180.0, 180.0],\n",
       "  [155.0, 155.0, 172.5, 172.5],\n",
       "  [111.875, 111.875, 163.75, 163.75],\n",
       "  [205.0, 205.0, 215.0, 215.0],\n",
       "  [195.0, 195.0, 210.0, 210.0],\n",
       "  [235.0, 235.0, 245.0, 245.0],\n",
       "  [225.0, 225.0, 240.0, 240.0],\n",
       "  [202.5, 202.5, 232.5, 232.5],\n",
       "  [137.8125, 137.8125, 217.5, 217.5],\n",
       "  [35.0, 35.0, 177.65625, 177.65625],\n",
       "  [265.0, 265.0, 275.0, 275.0],\n",
       "  [255.0, 255.0, 270.0, 270.0],\n",
       "  [305.0, 305.0, 315.0, 315.0],\n",
       "  [295.0, 295.0, 310.0, 310.0],\n",
       "  [285.0, 285.0, 302.5, 302.5],\n",
       "  [335.0, 335.0, 345.0, 345.0],\n",
       "  [325.0, 325.0, 340.0, 340.0],\n",
       "  [293.75, 293.75, 332.5, 332.5],\n",
       "  [365.0, 365.0, 375.0, 375.0],\n",
       "  [355.0, 355.0, 370.0, 370.0],\n",
       "  [385.0, 385.0, 395.0, 395.0],\n",
       "  [362.5, 362.5, 390.0, 390.0],\n",
       "  [415.0, 415.0, 425.0, 425.0],\n",
       "  [405.0, 405.0, 420.0, 420.0],\n",
       "  [376.25, 376.25, 412.5, 412.5],\n",
       "  [313.125, 313.125, 394.375, 394.375],\n",
       "  [262.5, 262.5, 353.75, 353.75],\n",
       "  [445.0, 445.0, 455.0, 455.0],\n",
       "  [435.0, 435.0, 450.0, 450.0],\n",
       "  [475.0, 475.0, 485.0, 485.0],\n",
       "  [465.0, 465.0, 480.0, 480.0],\n",
       "  [442.5, 442.5, 472.5, 472.5],\n",
       "  [495.0, 495.0, 505.0, 505.0],\n",
       "  [525.0, 525.0, 535.0, 535.0],\n",
       "  [515.0, 515.0, 530.0, 530.0],\n",
       "  [545.0, 545.0, 555.0, 555.0],\n",
       "  [522.5, 522.5, 550.0, 550.0],\n",
       "  [500.0, 500.0, 536.25, 536.25],\n",
       "  [585.0, 585.0, 595.0, 595.0],\n",
       "  [575.0, 575.0, 590.0, 590.0],\n",
       "  [565.0, 565.0, 582.5, 582.5],\n",
       "  [605.0, 605.0, 615.0, 615.0],\n",
       "  [635.0, 635.0, 645.0, 645.0],\n",
       "  [625.0, 625.0, 640.0, 640.0],\n",
       "  [610.0, 610.0, 632.5, 632.5],\n",
       "  [573.75, 573.75, 621.25, 621.25],\n",
       "  [518.125, 518.125, 597.5, 597.5],\n",
       "  [655.0, 655.0, 665.0, 665.0],\n",
       "  [675.0, 675.0, 685.0, 685.0],\n",
       "  [705.0, 705.0, 715.0, 715.0],\n",
       "  [695.0, 695.0, 710.0, 710.0],\n",
       "  [680.0, 680.0, 702.5, 702.5],\n",
       "  [660.0, 660.0, 691.25, 691.25],\n",
       "  [557.8125, 557.8125, 675.625, 675.625],\n",
       "  [725.0, 725.0, 735.0, 735.0],\n",
       "  [755.0, 755.0, 765.0, 765.0],\n",
       "  [745.0, 745.0, 760.0, 760.0],\n",
       "  [730.0, 730.0, 752.5, 752.5],\n",
       "  [775.0, 775.0, 785.0, 785.0],\n",
       "  [815.0, 815.0, 825.0, 825.0],\n",
       "  [805.0, 805.0, 820.0, 820.0],\n",
       "  [795.0, 795.0, 812.5, 812.5],\n",
       "  [780.0, 780.0, 803.75, 803.75],\n",
       "  [845.0, 845.0, 855.0, 855.0],\n",
       "  [865.0, 865.0, 875.0, 875.0],\n",
       "  [850.0, 850.0, 870.0, 870.0],\n",
       "  [835.0, 835.0, 860.0, 860.0],\n",
       "  [791.875, 791.875, 847.5, 847.5],\n",
       "  [741.25, 741.25, 819.6875, 819.6875],\n",
       "  [616.71875, 616.71875, 780.46875, 780.46875],\n",
       "  [457.5, 457.5, 698.59375, 698.59375],\n",
       "  [308.125, 308.125, 578.046875, 578.046875],\n",
       "  [106.328125, 106.328125, 443.0859375, 443.0859375]],\n",
       " 'dcoord': [[0.0, 0.1306498275704723, 0.1306498275704723, 0.0],\n",
       "  [0.0, 0.27457333982705406, 0.27457333982705406, 0.1306498275704723],\n",
       "  [0.0, 0.09982610814666336, 0.09982610814666336, 0.0],\n",
       "  [0.0, 0.15749535101903264, 0.15749535101903264, 0.09982610814666336],\n",
       "  [0.0, 0.131568541310303, 0.131568541310303, 0.0],\n",
       "  [0.0, 0.24040115269491416, 0.24040115269491416, 0.131568541310303],\n",
       "  [0.15749535101903264,\n",
       "   0.4240306538563709,\n",
       "   0.4240306538563709,\n",
       "   0.24040115269491416],\n",
       "  [0.27457333982705406,\n",
       "   0.8680244079808743,\n",
       "   0.8680244079808743,\n",
       "   0.4240306538563709],\n",
       "  [0.0, 0.10357993747824792, 0.10357993747824792, 0.0],\n",
       "  [0.0, 0.04492842023094043, 0.04492842023094043, 0.0],\n",
       "  [0.0, 0.06772764036650603, 0.06772764036650603, 0.04492842023094043],\n",
       "  [0.0, 0.13455299984062885, 0.13455299984062885, 0.06772764036650603],\n",
       "  [0.10357993747824792,\n",
       "   0.1799626169331561,\n",
       "   0.1799626169331561,\n",
       "   0.13455299984062885],\n",
       "  [0.0, 0.07404399828869926, 0.07404399828869926, 0.0],\n",
       "  [0.0, 0.14942451839237908, 0.14942451839237908, 0.07404399828869926],\n",
       "  [0.0, 0.20126247431028443, 0.20126247431028443, 0.14942451839237908],\n",
       "  [0.1799626169331561,\n",
       "   0.3727274370661916,\n",
       "   0.3727274370661916,\n",
       "   0.20126247431028443],\n",
       "  [0.0, 0.18249666479562363, 0.18249666479562363, 0.0],\n",
       "  [0.0, 0.2781634982511603, 0.2781634982511603, 0.18249666479562363],\n",
       "  [0.0, 0.28996517302552377, 0.28996517302552377, 0.0],\n",
       "  [0.0, 0.30507772840001474, 0.30507772840001474, 0.28996517302552377],\n",
       "  [0.2781634982511603,\n",
       "   0.6327202848129155,\n",
       "   0.6327202848129155,\n",
       "   0.30507772840001474],\n",
       "  [0.3727274370661916,\n",
       "   1.0480961203161756,\n",
       "   1.0480961203161756,\n",
       "   0.6327202848129155],\n",
       "  [0.8680244079808743,\n",
       "   1.330643566488403,\n",
       "   1.330643566488403,\n",
       "   1.0480961203161756],\n",
       "  [0.0, 0.13973390204522873, 0.13973390204522873, 0.0],\n",
       "  [0.0, 0.28844911610320406, 0.28844911610320406, 0.13973390204522873],\n",
       "  [0.0, 0.037577037721081556, 0.037577037721081556, 0.0],\n",
       "  [0.0, 0.11357202891734958, 0.11357202891734958, 0.037577037721081556],\n",
       "  [0.0, 0.20155367590005976, 0.20155367590005976, 0.11357202891734958],\n",
       "  [0.0, 0.0929587126287651, 0.0929587126287651, 0.0],\n",
       "  [0.0, 0.22680530978156455, 0.22680530978156455, 0.0929587126287651],\n",
       "  [0.20155367590005976,\n",
       "   0.3948941434559152,\n",
       "   0.3948941434559152,\n",
       "   0.22680530978156455],\n",
       "  [0.0, 0.0613574464882053, 0.0613574464882053, 0.0],\n",
       "  [0.0, 0.10045148819460831, 0.10045148819460831, 0.0613574464882053],\n",
       "  [0.0, 0.13429758744335757, 0.13429758744335757, 0.0],\n",
       "  [0.10045148819460831,\n",
       "   0.20271284066610626,\n",
       "   0.20271284066610626,\n",
       "   0.13429758744335757],\n",
       "  [0.0, 0.17011307112898663, 0.17011307112898663, 0.0],\n",
       "  [0.0, 0.23663375343554063, 0.23663375343554063, 0.17011307112898663],\n",
       "  [0.20271284066610626,\n",
       "   0.4862623937762329,\n",
       "   0.4862623937762329,\n",
       "   0.23663375343554063],\n",
       "  [0.3948941434559152,\n",
       "   0.6077308105016584,\n",
       "   0.6077308105016584,\n",
       "   0.4862623937762329],\n",
       "  [0.28844911610320406,\n",
       "   0.8878385668474448,\n",
       "   0.8878385668474448,\n",
       "   0.6077308105016584],\n",
       "  [0.0, 0.08553971419593798, 0.08553971419593798, 0.0],\n",
       "  [0.0, 0.1547536204579184, 0.1547536204579184, 0.08553971419593798],\n",
       "  [0.0, 0.15020756085396123, 0.15020756085396123, 0.0],\n",
       "  [0.0, 0.3226174623991351, 0.3226174623991351, 0.15020756085396123],\n",
       "  [0.1547536204579184,\n",
       "   0.7321430056781949,\n",
       "   0.7321430056781949,\n",
       "   0.3226174623991351],\n",
       "  [0.0, 0.07400528771701598, 0.07400528771701598, 0.0],\n",
       "  [0.0, 0.02168239866889443, 0.02168239866889443, 0.0],\n",
       "  [0.0, 0.03978723513616997, 0.03978723513616997, 0.02168239866889443],\n",
       "  [0.0, 0.04654594847808593, 0.04654594847808593, 0.0],\n",
       "  [0.03978723513616997,\n",
       "   0.11185004277318546,\n",
       "   0.11185004277318546,\n",
       "   0.04654594847808593],\n",
       "  [0.07400528771701598,\n",
       "   0.1592210498734739,\n",
       "   0.1592210498734739,\n",
       "   0.11185004277318546],\n",
       "  [0.0, 0.018985746228527733, 0.018985746228527733, 0.0],\n",
       "  [0.0, 0.054109590556241205, 0.054109590556241205, 0.018985746228527733],\n",
       "  [0.0, 0.08954723987071678, 0.08954723987071678, 0.054109590556241205],\n",
       "  [0.0, 0.04305208264340696, 0.04305208264340696, 0.0],\n",
       "  [0.0, 0.05565948971039057, 0.05565948971039057, 0.0],\n",
       "  [0.0, 0.07744497612901398, 0.07744497612901398, 0.05565948971039057],\n",
       "  [0.04305208264340696,\n",
       "   0.10550376420863729,\n",
       "   0.10550376420863729,\n",
       "   0.07744497612901398],\n",
       "  [0.08954723987071678,\n",
       "   0.2301751751775387,\n",
       "   0.2301751751775387,\n",
       "   0.10550376420863729],\n",
       "  [0.1592210498734739,\n",
       "   0.2665064229090106,\n",
       "   0.2665064229090106,\n",
       "   0.2301751751775387],\n",
       "  [0.0, 0.15049428333195897, 0.15049428333195897, 0.0],\n",
       "  [0.0, 0.0901671024991112, 0.0901671024991112, 0.0],\n",
       "  [0.0, 0.06936650931286548, 0.06936650931286548, 0.0],\n",
       "  [0.0, 0.12450589172274598, 0.12450589172274598, 0.06936650931286548],\n",
       "  [0.0901671024991112,\n",
       "   0.15202845201031034,\n",
       "   0.15202845201031034,\n",
       "   0.12450589172274598],\n",
       "  [0.15049428333195897,\n",
       "   0.33500631048706164,\n",
       "   0.33500631048706164,\n",
       "   0.15202845201031034],\n",
       "  [0.2665064229090106,\n",
       "   0.4796121441818203,\n",
       "   0.4796121441818203,\n",
       "   0.33500631048706164],\n",
       "  [0.0, 0.07595487631281143, 0.07595487631281143, 0.0],\n",
       "  [0.0, 0.021680690389004963, 0.021680690389004963, 0.0],\n",
       "  [0.0, 0.10223347837280457, 0.10223347837280457, 0.021680690389004963],\n",
       "  [0.07595487631281143,\n",
       "   0.1938884066632732,\n",
       "   0.1938884066632732,\n",
       "   0.10223347837280457],\n",
       "  [0.0, 0.04416891472873943, 0.04416891472873943, 0.0],\n",
       "  [0.0, 0.036291771947379745, 0.036291771947379745, 0.0],\n",
       "  [0.0, 0.05730085676063411, 0.05730085676063411, 0.036291771947379745],\n",
       "  [0.0, 0.078842336312477, 0.078842336312477, 0.05730085676063411],\n",
       "  [0.04416891472873943,\n",
       "   0.11474340267460292,\n",
       "   0.11474340267460292,\n",
       "   0.078842336312477],\n",
       "  [0.0, 0.03709132644112528, 0.03709132644112528, 0.0],\n",
       "  [0.0, 0.062402910976549396, 0.062402910976549396, 0.0],\n",
       "  [0.03709132644112528,\n",
       "   0.08413002361921343,\n",
       "   0.08413002361921343,\n",
       "   0.062402910976549396],\n",
       "  [0.0, 0.1749261794630167, 0.1749261794630167, 0.08413002361921343],\n",
       "  [0.11474340267460292,\n",
       "   0.30281866012551933,\n",
       "   0.30281866012551933,\n",
       "   0.1749261794630167],\n",
       "  [0.1938884066632732,\n",
       "   0.5122573402401019,\n",
       "   0.5122573402401019,\n",
       "   0.30281866012551933],\n",
       "  [0.4796121441818203,\n",
       "   0.8442560459748547,\n",
       "   0.8442560459748547,\n",
       "   0.5122573402401019],\n",
       "  [0.7321430056781949,\n",
       "   1.8965995689478106,\n",
       "   1.8965995689478106,\n",
       "   0.8442560459748547],\n",
       "  [0.8878385668474448,\n",
       "   2.122190812971977,\n",
       "   2.122190812971977,\n",
       "   1.8965995689478106],\n",
       "  [1.330643566488403, 2.70643256289267, 2.70643256289267, 2.122190812971977]],\n",
       " 'ivl': ['SALT LAKE CITY - SMITHS FOOD',\n",
       "  'PHOENIX - SMITHS FOOD',\n",
       "  'SAN DIEGO - RALPHS',\n",
       "  'SYRACUSE - P & C FOOD MARKE',\n",
       "  'BUFFALO/ROCHESTER - WEGMANS',\n",
       "  'ST. LOUIS - NATIONAL SUPER',\n",
       "  'SACRAMENTO - RALEYS',\n",
       "  'PHOENIX - SAFEWAY',\n",
       "  'SYRACUSE - WEGMANS',\n",
       "  'DALLAS/FT. WORTH - WINN DIXIE',\n",
       "  'LOUISVILLE - WINN DIXIE',\n",
       "  'CHARLOTTE - WINN DIXIE',\n",
       "  'HARRISBURG/SCRANTN - GIANT FOOD STO',\n",
       "  'CHARLOTTE - BI LO',\n",
       "  'JACKSONVILLE,FL - FOOD LION',\n",
       "  'INDIANAPOLIS - KROGER CO',\n",
       "  'OKLAHOMA CITY - HOMELAND',\n",
       "  'NASHVILLE - KROGER CO',\n",
       "  'SOUTH CAROLINA - WINN DIXIE',\n",
       "  'LOS ANGELES - RALPHS',\n",
       "  'CHICAGO - DOMINICK',\n",
       "  'SAN DIEGO - LUCKY',\n",
       "  'SOUTH CAROLINA - BI LO',\n",
       "  'BIRMINGHAM/MONTGOM - BRUNOS',\n",
       "  'NEW ENGLAND (NORTH) - SHOP N SAVE',\n",
       "  'NEW YORK (NEW) - PATHMARK',\n",
       "  'NEW YORK (NEW) - A & P',\n",
       "  'NEW YORK (NEW) - WALDBAUMS',\n",
       "  'BALTI/WASH - SUPER FRESH',\n",
       "  \"PHOENIX - FRY'S FOOD STORE\",\n",
       "  'HARTFORD - STOP & SHOP',\n",
       "  'WICHITA - DILLON COMPANIES',\n",
       "  'PHILADELPHIA - ACME MARKET',\n",
       "  'BALTI/WASH - GIANT FOOD INC',\n",
       "  'BALTI/WASH - SAFEWAY',\n",
       "  'PITTSBURGH - GIANT EAGLE',\n",
       "  'BUFFALO/ROCHESTER - TOPS MARKETS',\n",
       "  'DALLAS/FT. WORTH - TOM THUMB',\n",
       "  'DALLAS/FT. WORTH - ALBERTSONS',\n",
       "  'HOUSTON - RANDALLS',\n",
       "  'DENVER - KING SOOPERS INC',\n",
       "  'LOS ANGELES - VONS',\n",
       "  'SAN FRANCISCO - LUCKY',\n",
       "  'MIAMI - WINN DIXIE',\n",
       "  'HOUSTON - KROGER CO',\n",
       "  'MIAMI - PUBLIX',\n",
       "  'CHICAGO - JEWEL',\n",
       "  'LOS ANGELES - LUCKY',\n",
       "  'SAN ANT/CORPUS CHR - H E BUTT',\n",
       "  'DETROIT - KROGER CO',\n",
       "  'TAMPA/ST. PETE - KASH N KARRY',\n",
       "  'ROANOKE (NEW) - FOOD LION',\n",
       "  'CLEVELAND - STOP N SHOP',\n",
       "  'DALLAS/FT. WORTH - KROGER CO',\n",
       "  'ATLANTA - WINN DIXIE',\n",
       "  'CHICAGO - OMNI',\n",
       "  'DETROIT - FARMER JACKS',\n",
       "  'ATLANTA - KROGER CO',\n",
       "  'ORLANDO,FL - PUBLIX',\n",
       "  'TAMPA/ST. PETE - PUBLIX',\n",
       "  'NEW ORLEANS - WINN DIXIE',\n",
       "  'SOUTH CAROLINA - FOOD LION',\n",
       "  'TAMPA/ST. PETE - WINN DIXIE',\n",
       "  'CHARLOTTE - FOOD LION',\n",
       "  'ROANOKE (NEW) - KROGER CO',\n",
       "  'CINCINNATI - KROGER CO',\n",
       "  'ST. LOUIS - SCHNUCK MARKETS',\n",
       "  'COLUMBUS,OH - KROGER CO',\n",
       "  'ORLANDO,FL - WINN DIXIE',\n",
       "  'BIRMINGHAM/MONTGOM - WINN DIXIE',\n",
       "  'RALEIGH/GREENSBORO - FOOD LION',\n",
       "  'RICHMOND/NORFOLK - FOOD LION',\n",
       "  'BOSTON - STAR MARKET',\n",
       "  'MILWAUKEE - KOHLS FOOD STORE',\n",
       "  'JACKSONVILLE,FL - PUBLIX',\n",
       "  'ALBANY,NY - PRICE CHOPPER',\n",
       "  'SYRACUSE - PRICE CHOPPER',\n",
       "  'BIRMINGHAM/MONTGOM - KROGER',\n",
       "  'CHARLOTTE - HARRIS TEETER',\n",
       "  'RALEIGH/GREENSBORO - WINN DIXIE',\n",
       "  'BOSTON - STOP & SHOP',\n",
       "  'BOSTON - SHAWS',\n",
       "  'JACKSONVILLE,FL - WINN DIXIE',\n",
       "  'ORLANDO,FL - FOOD LION',\n",
       "  'LITTLE ROCK - HARVEST FOODS',\n",
       "  'RICHMOND/NORFOLK - NEW FARM FRESH',\n",
       "  'COLUMBUS,OH - BIG BEAR',\n",
       "  'LOUISVILLE - KROGER CO'],\n",
       " 'leaves': [71,\n",
       "  62,\n",
       "  74,\n",
       "  81,\n",
       "  13,\n",
       "  79,\n",
       "  70,\n",
       "  61,\n",
       "  83,\n",
       "  28,\n",
       "  45,\n",
       "  17,\n",
       "  32,\n",
       "  14,\n",
       "  37,\n",
       "  36,\n",
       "  55,\n",
       "  49,\n",
       "  78,\n",
       "  42,\n",
       "  18,\n",
       "  73,\n",
       "  76,\n",
       "  6,\n",
       "  50,\n",
       "  53,\n",
       "  52,\n",
       "  54,\n",
       "  5,\n",
       "  60,\n",
       "  33,\n",
       "  87,\n",
       "  59,\n",
       "  3,\n",
       "  4,\n",
       "  63,\n",
       "  12,\n",
       "  27,\n",
       "  25,\n",
       "  35,\n",
       "  29,\n",
       "  43,\n",
       "  75,\n",
       "  47,\n",
       "  34,\n",
       "  46,\n",
       "  19,\n",
       "  41,\n",
       "  72,\n",
       "  31,\n",
       "  84,\n",
       "  68,\n",
       "  22,\n",
       "  26,\n",
       "  2,\n",
       "  20,\n",
       "  30,\n",
       "  1,\n",
       "  57,\n",
       "  85,\n",
       "  51,\n",
       "  77,\n",
       "  86,\n",
       "  15,\n",
       "  69,\n",
       "  21,\n",
       "  80,\n",
       "  24,\n",
       "  58,\n",
       "  8,\n",
       "  64,\n",
       "  66,\n",
       "  10,\n",
       "  48,\n",
       "  38,\n",
       "  0,\n",
       "  82,\n",
       "  7,\n",
       "  16,\n",
       "  65,\n",
       "  11,\n",
       "  9,\n",
       "  39,\n",
       "  56,\n",
       "  40,\n",
       "  67,\n",
       "  23,\n",
       "  44],\n",
       " 'color_list': ['g',\n",
       "  'g',\n",
       "  'g',\n",
       "  'g',\n",
       "  'g',\n",
       "  'g',\n",
       "  'g',\n",
       "  'g',\n",
       "  'g',\n",
       "  'g',\n",
       "  'g',\n",
       "  'g',\n",
       "  'g',\n",
       "  'g',\n",
       "  'g',\n",
       "  'g',\n",
       "  'g',\n",
       "  'g',\n",
       "  'g',\n",
       "  'g',\n",
       "  'g',\n",
       "  'g',\n",
       "  'g',\n",
       "  'g',\n",
       "  'r',\n",
       "  'r',\n",
       "  'r',\n",
       "  'r',\n",
       "  'r',\n",
       "  'r',\n",
       "  'r',\n",
       "  'r',\n",
       "  'r',\n",
       "  'r',\n",
       "  'r',\n",
       "  'r',\n",
       "  'r',\n",
       "  'r',\n",
       "  'r',\n",
       "  'r',\n",
       "  'r',\n",
       "  'c',\n",
       "  'c',\n",
       "  'c',\n",
       "  'c',\n",
       "  'c',\n",
       "  'm',\n",
       "  'm',\n",
       "  'm',\n",
       "  'm',\n",
       "  'm',\n",
       "  'm',\n",
       "  'm',\n",
       "  'm',\n",
       "  'm',\n",
       "  'm',\n",
       "  'm',\n",
       "  'm',\n",
       "  'm',\n",
       "  'm',\n",
       "  'm',\n",
       "  'm',\n",
       "  'm',\n",
       "  'm',\n",
       "  'm',\n",
       "  'm',\n",
       "  'm',\n",
       "  'm',\n",
       "  'm',\n",
       "  'm',\n",
       "  'm',\n",
       "  'm',\n",
       "  'm',\n",
       "  'm',\n",
       "  'm',\n",
       "  'm',\n",
       "  'm',\n",
       "  'm',\n",
       "  'm',\n",
       "  'm',\n",
       "  'm',\n",
       "  'm',\n",
       "  'm',\n",
       "  'm',\n",
       "  'b',\n",
       "  'b',\n",
       "  'b']}"
      ]
     },
     "execution_count": 6,
     "metadata": {},
     "output_type": "execute_result"
    },
    {
     "data": {
      "text/plain": [
       "Text(0, 0.5, 'Distance')"
      ]
     },
     "execution_count": 6,
     "metadata": {},
     "output_type": "execute_result"
    },
    {
     "data": {
      "text/plain": [
       "<function matplotlib.pyplot.show(*args, **kw)>"
      ]
     },
     "execution_count": 6,
     "metadata": {},
     "output_type": "execute_result"
    },
    {
     "data": {
      "image/png": "[encoded data removed]",
      "text/plain": [
       "<Figure size 1080x720 with 1 Axes>"
      ]
     },
     "metadata": {
      "needs_background": "light"
     },
     "output_type": "display_data"
    }
   ],
   "source": [
    "#Find out the right numbers of clusters\n",
    "fig = plt.figure(figsize=(15,10))\n",
    "dendrogram(dist,orientation='top', distance_sort='descending', show_leaf_counts=True,\n",
    "           labels=df_pivot.index, leaf_font_size=10,leaf_rotation=90)\n",
    "plt.xlabel=('Cluster')\n",
    "plt.ylabel('Distance')\n",
    "# show the figure\n",
    "plt.show\n",
    "# save the figure to file\n",
    "#fig.savefig('dendrogram.png') \n",
    "# close the figure\n",
    "#plt.close(fig)   "
   ]
  },
  {
   "cell_type": "code",
   "execution_count": 7,
   "metadata": {},
   "outputs": [
    {
     "data": {
      "text/plain": [
       "numpy.ndarray"
      ]
     },
     "execution_count": 7,
     "metadata": {},
     "output_type": "execute_result"
    },
    {
     "name": "stdout",
     "output_type": "stream",
     "text": [
      "[4 4 4 2 2 2 1 4 4 4 4 4 2 1 1 4 4 1 1 3 4 4 4 4 4 2 4 2 1 2 4 4 1 2 3 2 1\n",
      " 1 4 4 4 3 1 2 4 1 3 3 4 1 1 4 2 2 2 1 4 4 4 2 2 1 1 2 4 4 4 4 4 4 1 1 3 1\n",
      " 1 2 1 4 1 1 4 1 4 1 4 4 4 2]\n"
     ]
    }
   ],
   "source": [
    "# Show cluster membership\n",
    "lbl = fcluster(dist,1.5, criterion = 'distance')\n",
    "type(lbl)\n",
    "print(lbl)"
   ]
  },
  {
   "cell_type": "code",
   "execution_count": 8,
   "metadata": {},
   "outputs": [
    {
     "data": {
      "text/html": [
       "<div>\n",
       "<style scoped>\n",
       "    .dataframe tbody tr th:only-of-type {\n",
       "        vertical-align: middle;\n",
       "    }\n",
       "\n",
       "    .dataframe tbody tr th {\n",
       "        vertical-align: top;\n",
       "    }\n",
       "\n",
       "    .dataframe thead th {\n",
       "        text-align: right;\n",
       "    }\n",
       "</style>\n",
       "<table border=\"1\" class=\"dataframe\">\n",
       "  <thead>\n",
       "    <tr style=\"text-align: right;\">\n",
       "      <th></th>\n",
       "      <th>RETAILER</th>\n",
       "      <th>DISP</th>\n",
       "      <th>PRICE</th>\n",
       "      <th>VOLUME</th>\n",
       "    </tr>\n",
       "  </thead>\n",
       "  <tbody>\n",
       "    <tr>\n",
       "      <th>0</th>\n",
       "      <td>ALBANY,NY - PRICE CHOPPER</td>\n",
       "      <td>0.000000</td>\n",
       "      <td>2.864821</td>\n",
       "      <td>717.0</td>\n",
       "    </tr>\n",
       "    <tr>\n",
       "      <th>1</th>\n",
       "      <td>ATLANTA - KROGER CO</td>\n",
       "      <td>0.030872</td>\n",
       "      <td>2.701700</td>\n",
       "      <td>4455.0</td>\n",
       "    </tr>\n",
       "    <tr>\n",
       "      <th>2</th>\n",
       "      <td>ATLANTA - WINN DIXIE</td>\n",
       "      <td>0.000000</td>\n",
       "      <td>2.692330</td>\n",
       "      <td>2848.0</td>\n",
       "    </tr>\n",
       "    <tr>\n",
       "      <th>3</th>\n",
       "      <td>BALTI/WASH - GIANT FOOD INC</td>\n",
       "      <td>0.000000</td>\n",
       "      <td>3.783658</td>\n",
       "      <td>4337.0</td>\n",
       "    </tr>\n",
       "    <tr>\n",
       "      <th>4</th>\n",
       "      <td>BALTI/WASH - SAFEWAY</td>\n",
       "      <td>0.000000</td>\n",
       "      <td>3.987125</td>\n",
       "      <td>3832.0</td>\n",
       "    </tr>\n",
       "  </tbody>\n",
       "</table>\n",
       "</div>"
      ],
      "text/plain": [
       "                      RETAILER      DISP     PRICE  VOLUME\n",
       "0    ALBANY,NY - PRICE CHOPPER  0.000000  2.864821   717.0\n",
       "1          ATLANTA - KROGER CO  0.030872  2.701700  4455.0\n",
       "2         ATLANTA - WINN DIXIE  0.000000  2.692330  2848.0\n",
       "3  BALTI/WASH - GIANT FOOD INC  0.000000  3.783658  4337.0\n",
       "4         BALTI/WASH - SAFEWAY  0.000000  3.987125  3832.0"
      ]
     },
     "execution_count": 8,
     "metadata": {},
     "output_type": "execute_result"
    },
    {
     "data": {
      "text/html": [
       "<div>\n",
       "<style scoped>\n",
       "    .dataframe tbody tr th:only-of-type {\n",
       "        vertical-align: middle;\n",
       "    }\n",
       "\n",
       "    .dataframe tbody tr th {\n",
       "        vertical-align: top;\n",
       "    }\n",
       "\n",
       "    .dataframe thead th {\n",
       "        text-align: right;\n",
       "    }\n",
       "</style>\n",
       "<table border=\"1\" class=\"dataframe\">\n",
       "  <thead>\n",
       "    <tr style=\"text-align: right;\">\n",
       "      <th></th>\n",
       "      <th>RETAILER</th>\n",
       "      <th>DISP</th>\n",
       "      <th>PRICE</th>\n",
       "      <th>VOLUME</th>\n",
       "    </tr>\n",
       "  </thead>\n",
       "  <tbody>\n",
       "    <tr>\n",
       "      <th>83</th>\n",
       "      <td>SYRACUSE - WEGMANS</td>\n",
       "      <td>0.227423</td>\n",
       "      <td>3.459383</td>\n",
       "      <td>807.0</td>\n",
       "    </tr>\n",
       "    <tr>\n",
       "      <th>84</th>\n",
       "      <td>TAMPA/ST. PETE - KASH N KARRY</td>\n",
       "      <td>0.000000</td>\n",
       "      <td>2.877614</td>\n",
       "      <td>3797.0</td>\n",
       "    </tr>\n",
       "    <tr>\n",
       "      <th>85</th>\n",
       "      <td>TAMPA/ST. PETE - PUBLIX</td>\n",
       "      <td>0.036500</td>\n",
       "      <td>2.769338</td>\n",
       "      <td>5021.0</td>\n",
       "    </tr>\n",
       "    <tr>\n",
       "      <th>86</th>\n",
       "      <td>TAMPA/ST. PETE - WINN DIXIE</td>\n",
       "      <td>0.014416</td>\n",
       "      <td>2.599700</td>\n",
       "      <td>5169.0</td>\n",
       "    </tr>\n",
       "    <tr>\n",
       "      <th>87</th>\n",
       "      <td>WICHITA - DILLON COMPANIES</td>\n",
       "      <td>0.000000</td>\n",
       "      <td>3.378888</td>\n",
       "      <td>1187.5</td>\n",
       "    </tr>\n",
       "  </tbody>\n",
       "</table>\n",
       "</div>"
      ],
      "text/plain": [
       "                         RETAILER      DISP     PRICE  VOLUME\n",
       "83             SYRACUSE - WEGMANS  0.227423  3.459383   807.0\n",
       "84  TAMPA/ST. PETE - KASH N KARRY  0.000000  2.877614  3797.0\n",
       "85        TAMPA/ST. PETE - PUBLIX  0.036500  2.769338  5021.0\n",
       "86    TAMPA/ST. PETE - WINN DIXIE  0.014416  2.599700  5169.0\n",
       "87     WICHITA - DILLON COMPANIES  0.000000  3.378888  1187.5"
      ]
     },
     "execution_count": 8,
     "metadata": {},
     "output_type": "execute_result"
    },
    {
     "data": {
      "text/plain": [
       "(88, 4)"
      ]
     },
     "execution_count": 8,
     "metadata": {},
     "output_type": "execute_result"
    }
   ],
   "source": [
    "df_pivot.reset_index(level=0, inplace=True)\n",
    "df_pivot.head()\n",
    "df_pivot.tail()\n",
    "df_pivot.shape"
   ]
  },
  {
   "cell_type": "code",
   "execution_count": 9,
   "metadata": {},
   "outputs": [
    {
     "data": {
      "text/html": [
       "<div>\n",
       "<style scoped>\n",
       "    .dataframe tbody tr th:only-of-type {\n",
       "        vertical-align: middle;\n",
       "    }\n",
       "\n",
       "    .dataframe tbody tr th {\n",
       "        vertical-align: top;\n",
       "    }\n",
       "\n",
       "    .dataframe thead th {\n",
       "        text-align: right;\n",
       "    }\n",
       "</style>\n",
       "<table border=\"1\" class=\"dataframe\">\n",
       "  <thead>\n",
       "    <tr style=\"text-align: right;\">\n",
       "      <th></th>\n",
       "      <th>RETAILER</th>\n",
       "      <th>DISP</th>\n",
       "      <th>PRICE</th>\n",
       "      <th>VOLUME</th>\n",
       "      <th>Cluster</th>\n",
       "    </tr>\n",
       "  </thead>\n",
       "  <tbody>\n",
       "    <tr>\n",
       "      <th>0</th>\n",
       "      <td>ALBANY,NY - PRICE CHOPPER</td>\n",
       "      <td>0.000000</td>\n",
       "      <td>2.864821</td>\n",
       "      <td>717.0</td>\n",
       "      <td>4</td>\n",
       "    </tr>\n",
       "    <tr>\n",
       "      <th>1</th>\n",
       "      <td>ATLANTA - KROGER CO</td>\n",
       "      <td>0.030872</td>\n",
       "      <td>2.701700</td>\n",
       "      <td>4455.0</td>\n",
       "      <td>4</td>\n",
       "    </tr>\n",
       "    <tr>\n",
       "      <th>2</th>\n",
       "      <td>ATLANTA - WINN DIXIE</td>\n",
       "      <td>0.000000</td>\n",
       "      <td>2.692330</td>\n",
       "      <td>2848.0</td>\n",
       "      <td>4</td>\n",
       "    </tr>\n",
       "    <tr>\n",
       "      <th>3</th>\n",
       "      <td>BALTI/WASH - GIANT FOOD INC</td>\n",
       "      <td>0.000000</td>\n",
       "      <td>3.783658</td>\n",
       "      <td>4337.0</td>\n",
       "      <td>2</td>\n",
       "    </tr>\n",
       "    <tr>\n",
       "      <th>4</th>\n",
       "      <td>BALTI/WASH - SAFEWAY</td>\n",
       "      <td>0.000000</td>\n",
       "      <td>3.987125</td>\n",
       "      <td>3832.0</td>\n",
       "      <td>2</td>\n",
       "    </tr>\n",
       "  </tbody>\n",
       "</table>\n",
       "</div>"
      ],
      "text/plain": [
       "                      RETAILER      DISP     PRICE  VOLUME  Cluster\n",
       "0    ALBANY,NY - PRICE CHOPPER  0.000000  2.864821   717.0        4\n",
       "1          ATLANTA - KROGER CO  0.030872  2.701700  4455.0        4\n",
       "2         ATLANTA - WINN DIXIE  0.000000  2.692330  2848.0        4\n",
       "3  BALTI/WASH - GIANT FOOD INC  0.000000  3.783658  4337.0        2\n",
       "4         BALTI/WASH - SAFEWAY  0.000000  3.987125  3832.0        2"
      ]
     },
     "execution_count": 9,
     "metadata": {},
     "output_type": "execute_result"
    },
    {
     "data": {
      "text/html": [
       "<div>\n",
       "<style scoped>\n",
       "    .dataframe tbody tr th:only-of-type {\n",
       "        vertical-align: middle;\n",
       "    }\n",
       "\n",
       "    .dataframe tbody tr th {\n",
       "        vertical-align: top;\n",
       "    }\n",
       "\n",
       "    .dataframe thead th {\n",
       "        text-align: right;\n",
       "    }\n",
       "</style>\n",
       "<table border=\"1\" class=\"dataframe\">\n",
       "  <thead>\n",
       "    <tr style=\"text-align: right;\">\n",
       "      <th></th>\n",
       "      <th>RETAILER</th>\n",
       "      <th>DISP</th>\n",
       "      <th>PRICE</th>\n",
       "      <th>VOLUME</th>\n",
       "      <th>Cluster</th>\n",
       "    </tr>\n",
       "  </thead>\n",
       "  <tbody>\n",
       "    <tr>\n",
       "      <th>83</th>\n",
       "      <td>SYRACUSE - WEGMANS</td>\n",
       "      <td>0.227423</td>\n",
       "      <td>3.459383</td>\n",
       "      <td>807.0</td>\n",
       "      <td>1</td>\n",
       "    </tr>\n",
       "    <tr>\n",
       "      <th>84</th>\n",
       "      <td>TAMPA/ST. PETE - KASH N KARRY</td>\n",
       "      <td>0.000000</td>\n",
       "      <td>2.877614</td>\n",
       "      <td>3797.0</td>\n",
       "      <td>4</td>\n",
       "    </tr>\n",
       "    <tr>\n",
       "      <th>85</th>\n",
       "      <td>TAMPA/ST. PETE - PUBLIX</td>\n",
       "      <td>0.036500</td>\n",
       "      <td>2.769338</td>\n",
       "      <td>5021.0</td>\n",
       "      <td>4</td>\n",
       "    </tr>\n",
       "    <tr>\n",
       "      <th>86</th>\n",
       "      <td>TAMPA/ST. PETE - WINN DIXIE</td>\n",
       "      <td>0.014416</td>\n",
       "      <td>2.599700</td>\n",
       "      <td>5169.0</td>\n",
       "      <td>4</td>\n",
       "    </tr>\n",
       "    <tr>\n",
       "      <th>87</th>\n",
       "      <td>WICHITA - DILLON COMPANIES</td>\n",
       "      <td>0.000000</td>\n",
       "      <td>3.378888</td>\n",
       "      <td>1187.5</td>\n",
       "      <td>2</td>\n",
       "    </tr>\n",
       "  </tbody>\n",
       "</table>\n",
       "</div>"
      ],
      "text/plain": [
       "                         RETAILER      DISP     PRICE  VOLUME  Cluster\n",
       "83             SYRACUSE - WEGMANS  0.227423  3.459383   807.0        1\n",
       "84  TAMPA/ST. PETE - KASH N KARRY  0.000000  2.877614  3797.0        4\n",
       "85        TAMPA/ST. PETE - PUBLIX  0.036500  2.769338  5021.0        4\n",
       "86    TAMPA/ST. PETE - WINN DIXIE  0.014416  2.599700  5169.0        4\n",
       "87     WICHITA - DILLON COMPANIES  0.000000  3.378888  1187.5        2"
      ]
     },
     "execution_count": 9,
     "metadata": {},
     "output_type": "execute_result"
    },
    {
     "data": {
      "text/plain": [
       "(88, 5)"
      ]
     },
     "execution_count": 9,
     "metadata": {},
     "output_type": "execute_result"
    }
   ],
   "source": [
    "df_pivot['Cluster']=lbl\n",
    "df_pivot.head()\n",
    "df_pivot.tail()\n",
    "df_pivot.shape"
   ]
  },
  {
   "cell_type": "code",
   "execution_count": 10,
   "metadata": {},
   "outputs": [
    {
     "data": {
      "text/html": [
       "<div>\n",
       "<style scoped>\n",
       "    .dataframe tbody tr th:only-of-type {\n",
       "        vertical-align: middle;\n",
       "    }\n",
       "\n",
       "    .dataframe tbody tr th {\n",
       "        vertical-align: top;\n",
       "    }\n",
       "\n",
       "    .dataframe thead th {\n",
       "        text-align: right;\n",
       "    }\n",
       "</style>\n",
       "<table border=\"1\" class=\"dataframe\">\n",
       "  <thead>\n",
       "    <tr style=\"text-align: right;\">\n",
       "      <th></th>\n",
       "      <th>DISP</th>\n",
       "      <th>PRICE</th>\n",
       "      <th>VOLUME</th>\n",
       "    </tr>\n",
       "    <tr>\n",
       "      <th>Cluster</th>\n",
       "      <th></th>\n",
       "      <th></th>\n",
       "      <th></th>\n",
       "    </tr>\n",
       "  </thead>\n",
       "  <tbody>\n",
       "    <tr>\n",
       "      <th>1</th>\n",
       "      <td>0.22</td>\n",
       "      <td>2.82</td>\n",
       "      <td>3371.52</td>\n",
       "    </tr>\n",
       "    <tr>\n",
       "      <th>2</th>\n",
       "      <td>0.04</td>\n",
       "      <td>3.64</td>\n",
       "      <td>3431.00</td>\n",
       "    </tr>\n",
       "    <tr>\n",
       "      <th>3</th>\n",
       "      <td>0.06</td>\n",
       "      <td>2.82</td>\n",
       "      <td>11512.67</td>\n",
       "    </tr>\n",
       "    <tr>\n",
       "      <th>4</th>\n",
       "      <td>0.03</td>\n",
       "      <td>2.64</td>\n",
       "      <td>3479.58</td>\n",
       "    </tr>\n",
       "  </tbody>\n",
       "</table>\n",
       "</div>"
      ],
      "text/plain": [
       "         DISP  PRICE    VOLUME\n",
       "Cluster                       \n",
       "1        0.22   2.82   3371.52\n",
       "2        0.04   3.64   3431.00\n",
       "3        0.06   2.82  11512.67\n",
       "4        0.03   2.64   3479.58"
      ]
     },
     "execution_count": 10,
     "metadata": {},
     "output_type": "execute_result"
    }
   ],
   "source": [
    "#Generate pivot table for 'VOLUME','DISP','PRICE' with mean of allaganist each clusters\n",
    "clust_profile = pd.pivot_table(df_pivot, values=['VOLUME','DISP','PRICE'], index='Cluster', aggfunc=np.mean)\n",
    "np.round(clust_profile,2)"
   ]
  },
  {
   "cell_type": "code",
   "execution_count": 11,
   "metadata": {},
   "outputs": [
    {
     "data": {
      "text/plain": [
       "<Figure size 720x576 with 0 Axes>"
      ]
     },
     "execution_count": 11,
     "metadata": {},
     "output_type": "execute_result"
    },
    {
     "data": {
      "text/plain": [
       "<matplotlib.axes._subplots.AxesSubplot at 0x20bfa83b2e8>"
      ]
     },
     "execution_count": 11,
     "metadata": {},
     "output_type": "execute_result"
    },
    {
     "data": {
      "text/plain": [
       "<matplotlib.axes._subplots.AxesSubplot at 0x20bfa83b2e8>"
      ]
     },
     "execution_count": 11,
     "metadata": {},
     "output_type": "execute_result"
    },
    {
     "data": {
      "image/png": "[encoded data removed]",
      "text/plain": [
       "<Figure size 720x576 with 1 Axes>"
      ]
     },
     "metadata": {
      "needs_background": "light"
     },
     "output_type": "display_data"
    }
   ],
   "source": [
    "#Plot a graph with Volume and strip plot to know the outliners\n",
    "plt.figure(figsize=(10,8))\n",
    "sns.boxplot(x='Cluster', y='VOLUME',width=0.5,palette=\"colorblind\",  data=df_pivot,linewidth=2)\n",
    "sns.stripplot(x='Cluster', y='VOLUME',  data=df_pivot,jitter=True,marker='o',alpha=0.5,color='black')\n",
    "plt.show()"
   ]
  },
  {
   "cell_type": "markdown",
   "metadata": {},
   "source": [
    "With above plot graph came to conclusion that in cluster 3 volume of the cheeder cheese sale is more as compare to other clusters. Also the number of stores seems to be less in cluster 3 compare to other clusters."
   ]
  },
  {
   "cell_type": "code",
   "execution_count": 12,
   "metadata": {},
   "outputs": [
    {
     "data": {
      "text/plain": [
       "<Figure size 720x576 with 0 Axes>"
      ]
     },
     "execution_count": 12,
     "metadata": {},
     "output_type": "execute_result"
    },
    {
     "data": {
      "text/plain": [
       "<matplotlib.axes._subplots.AxesSubplot at 0x20bfa83bc18>"
      ]
     },
     "execution_count": 12,
     "metadata": {},
     "output_type": "execute_result"
    },
    {
     "data": {
      "text/plain": [
       "<matplotlib.axes._subplots.AxesSubplot at 0x20bfa83bc18>"
      ]
     },
     "execution_count": 12,
     "metadata": {},
     "output_type": "execute_result"
    },
    {
     "data": {
      "image/png": "[encoded data removed]",
      "text/plain": [
       "<Figure size 720x576 with 1 Axes>"
      ]
     },
     "metadata": {
      "needs_background": "light"
     },
     "output_type": "display_data"
    }
   ],
   "source": [
    "#Plot a graph with DISP and strip plot to know the outliners\n",
    "plt.figure(figsize=(10,8))\n",
    "sns.boxplot(x='Cluster', y='DISP', width=0.5,palette=\"colorblind\", data=df_pivot,linewidth=2)\n",
    "sns.stripplot(x='Cluster', y='DISP',  data=df_pivot,jitter=True,marker='o',alpha=0.5,color='black')\n",
    "plt.show()"
   ]
  },
  {
   "cell_type": "markdown",
   "metadata": {},
   "source": [
    "Cluster No.1 has more number of stores investing more on advertising display activity comparing to other cluster stores."
   ]
  },
  {
   "cell_type": "code",
   "execution_count": 13,
   "metadata": {},
   "outputs": [
    {
     "data": {
      "text/plain": [
       "<Figure size 720x576 with 0 Axes>"
      ]
     },
     "execution_count": 13,
     "metadata": {},
     "output_type": "execute_result"
    },
    {
     "data": {
      "text/plain": [
       "<matplotlib.axes._subplots.AxesSubplot at 0x20bfa5ab400>"
      ]
     },
     "execution_count": 13,
     "metadata": {},
     "output_type": "execute_result"
    },
    {
     "data": {
      "text/plain": [
       "<matplotlib.axes._subplots.AxesSubplot at 0x20bfa5ab400>"
      ]
     },
     "execution_count": 13,
     "metadata": {},
     "output_type": "execute_result"
    },
    {
     "data": {
      "image/png": "[encoded data removed]",
      "text/plain": [
       "<Figure size 720x576 with 1 Axes>"
      ]
     },
     "metadata": {
      "needs_background": "light"
     },
     "output_type": "display_data"
    }
   ],
   "source": [
    "#Plot a graph with PRICE and strip plot to know the outliners\n",
    "plt.figure(figsize=(10,8))\n",
    "sns.boxplot(x='Cluster', y='PRICE',  width=0.5,palette=\"colorblind\",data=df_pivot,linewidth=2)\n",
    "sns.stripplot(x='Cluster', y='PRICE',  data=df_pivot,jitter=True,marker='o',alpha=0.5,color='black')\n",
    "plt.show()"
   ]
  },
  {
   "cell_type": "markdown",
   "metadata": {},
   "source": [
    "Price wise i can see cluster no: 2 stores charge more compating to other cluster stores while cluster No:1 has less prices for similar type of cheese."
   ]
  },
  {
   "cell_type": "code",
   "execution_count": 14,
   "metadata": {},
   "outputs": [],
   "source": [
    "# import hierarchical clustering libraries\n",
    "import scipy.cluster.hierarchy as sch\n",
    "from sklearn.cluster import AgglomerativeClustering"
   ]
  },
  {
   "cell_type": "code",
   "execution_count": 15,
   "metadata": {},
   "outputs": [
    {
     "data": {
      "text/plain": [
       "<Figure size 1800x720 with 0 Axes>"
      ]
     },
     "execution_count": 15,
     "metadata": {},
     "output_type": "execute_result"
    },
    {
     "data": {
      "text/plain": [
       "Text(0.5, 1.0, 'Hierarchical Clustering Dendrogram (Ward)')"
      ]
     },
     "execution_count": 15,
     "metadata": {},
     "output_type": "execute_result"
    },
    {
     "data": {
      "image/png": "[encoded data removed]",
      "text/plain": [
       "<Figure size 1800x720 with 1 Axes>"
      ]
     },
     "metadata": {
      "needs_background": "light"
     },
     "output_type": "display_data"
    }
   ],
   "source": [
    "# create dendrogram\n",
    "plt.figure(figsize=(25,10))\n",
    "dendrogram = sch.dendrogram(sch.linkage(dist, method='ward'))\n",
    "plt.title('Hierarchical Clustering Dendrogram (Ward)')\n",
    "plt.show()"
   ]
  },
  {
   "cell_type": "markdown",
   "metadata": {},
   "source": [
    "create clusters Agglomerative Clustering Recursively merges the pair of clusters that minimally increases a given linkage distance"
   ]
  },
  {
   "cell_type": "code",
   "execution_count": 16,
   "metadata": {},
   "outputs": [
    {
     "data": {
      "text/plain": [
       "array([0, 0, 2, 2, 0, 0, 0, 0, 2, 2, 2, 0, 0, 0, 2, 2, 0, 0, 0, 0, 2, 3,\n",
       "       0, 3, 2, 0, 2, 2, 0, 0, 0, 2, 3, 3, 0, 3, 0, 0, 0, 2, 0, 0, 0, 0,\n",
       "       0, 3, 0, 0, 3, 0, 0, 3, 0, 3, 0, 0, 3, 0, 3, 0, 0, 1, 0, 0, 0, 2,\n",
       "       1, 0, 0, 1, 1, 1, 1, 1, 1, 1, 1, 1, 1, 1, 1, 1, 1, 1, 1, 1, 1],\n",
       "      dtype=int64)"
      ]
     },
     "execution_count": 16,
     "metadata": {},
     "output_type": "execute_result"
    }
   ],
   "source": [
    "clustering = AgglomerativeClustering(n_clusters=4, affinity = 'euclidean', linkage = 'ward')\n",
    "\n",
    "# Train model\n",
    "model = clustering.fit_predict(dist)\n",
    "\n",
    "clustering.labels_"
   ]
  },
  {
   "cell_type": "code",
   "execution_count": 17,
   "metadata": {},
   "outputs": [
    {
     "data": {
      "text/plain": [
       "<matplotlib.collections.PathCollection at 0x20bfba78f60>"
      ]
     },
     "execution_count": 17,
     "metadata": {},
     "output_type": "execute_result"
    },
    {
     "data": {
      "text/plain": [
       "<matplotlib.collections.PathCollection at 0x20bfba7f588>"
      ]
     },
     "execution_count": 17,
     "metadata": {},
     "output_type": "execute_result"
    },
    {
     "data": {
      "text/plain": [
       "<matplotlib.collections.PathCollection at 0x20bfba7f5f8>"
      ]
     },
     "execution_count": 17,
     "metadata": {},
     "output_type": "execute_result"
    },
    {
     "data": {
      "text/plain": [
       "<matplotlib.collections.PathCollection at 0x20bfba7fc18>"
      ]
     },
     "execution_count": 17,
     "metadata": {},
     "output_type": "execute_result"
    },
    {
     "data": {
      "image/png": "[encoded data removed]",
      "text/plain": [
       "<Figure size 432x288 with 1 Axes>"
      ]
     },
     "metadata": {
      "needs_background": "light"
     },
     "output_type": "display_data"
    }
   ],
   "source": [
    "#Generate scatter plot aganist each clusters using Agglomerative Clustering\n",
    "plt.scatter(dist[model ==0,0], dist[model == 0,1], s=100, c='red')\n",
    "plt.scatter(dist[model==1,0], dist[model == 1,1], s=100, c='black')\n",
    "plt.scatter(dist[model ==2,0], dist[model == 2,1], s=100, c='blue')\n",
    "plt.scatter(dist[model ==3,0], dist[model == 3,1], s=100, c='cyan')"
   ]
  },
  {
   "cell_type": "markdown",
   "metadata": {},
   "source": [
    "In this plot, the dots denote which cluster each observation has been assigned to.\n",
    "\n",
    "The colours denote the original class.\n",
    "\n",
    "I think you will agree that the clustering has done a pretty decent job and there are a few outliers."
   ]
  }
 ],
 "metadata": {
  "kernelspec": {
   "display_name": "Python 3",
   "language": "python",
   "name": "python3"
  },
  "language_info": {
   "codemirror_mode": {
    "name": "ipython",
    "version": 3
   },
   "file_extension": ".py",
   "mimetype": "text/x-python",
   "name": "python",
   "nbconvert_exporter": "python",
   "pygments_lexer": "ipython3",
   "version": "3.6.6"
  }
 },
 "nbformat": 4,
 "nbformat_minor": 2
}
