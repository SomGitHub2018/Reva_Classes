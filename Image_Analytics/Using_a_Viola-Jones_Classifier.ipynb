{
 "cells": [
  {
   "cell_type": "code",
   "execution_count": 20,
   "metadata": {},
   "outputs": [],
   "source": [
    "# https://realpython.com/traditional-face-detection-python/\n",
    "\n",
    "import cv2 as cv\n",
    "\n",
    "# Read image from your local file system\n",
    "#original_image = cv.imread('adult-child-facial-expression-834508.jpg')\n",
    "#original_image = cv.imread('children-family-fashion-1648387.jpg')\n",
    "#original_image = cv.imread('WIN_20180127_09_09_06_Pro.jpg')\n",
    "original_image = cv.imread('427.jpg')\n",
    "# Convert color image to grayscale for Viola-Jones\n",
    "grayscale_image = cv.cvtColor(original_image, cv.COLOR_BGR2GRAY)\n",
    "\n",
    "# Load the classifier and create a cascade object for face detection\n",
    "face_cascade = cv.CascadeClassifier('haarcascade_frontalface_default.xml')\n",
    "\n",
    "# The face_cascade object has a method detectMultiScale(), which receives an image as\n",
    "# an argument and runs the classifier cascade over the image.\n",
    "detected_faces = face_cascade.detectMultiScale(grayscale_image,1.3, 5)\n",
    "\n",
    "# Adding the width to the row and height to the column will give you the bottom-right corner of the image:\n",
    "for (column, row, width, height) in detected_faces:\n",
    "    cv.rectangle(\n",
    "        original_image,\n",
    "        (column, row),\n",
    "        (column + width, row + height),\n",
    "        (0, 255, 0),\n",
    "        2\n",
    "    )\n",
    "    \n",
    "cv.imshow('Image', original_image)\n",
    "cv.waitKey(0)\n",
    "cv.destroyAllWindows()"
   ]
  },
  {
   "cell_type": "code",
   "execution_count": null,
   "metadata": {},
   "outputs": [],
   "source": []
  }
 ],
 "metadata": {
  "kernelspec": {
   "display_name": "Python 3",
   "language": "python",
   "name": "python3"
  },
  "language_info": {
   "codemirror_mode": {
    "name": "ipython",
    "version": 3
   },
   "file_extension": ".py",
   "mimetype": "text/x-python",
   "name": "python",
   "nbconvert_exporter": "python",
   "pygments_lexer": "ipython3",
   "version": "3.6.8"
  }
 },
 "nbformat": 4,
 "nbformat_minor": 2
}
