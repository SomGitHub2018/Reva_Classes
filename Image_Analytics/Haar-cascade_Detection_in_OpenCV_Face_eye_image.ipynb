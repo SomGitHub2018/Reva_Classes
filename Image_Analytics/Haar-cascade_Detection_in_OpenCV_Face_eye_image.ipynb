{
 "cells": [
  {
   "cell_type": "code",
   "execution_count": 2,
   "metadata": {},
   "outputs": [],
   "source": [
    "import numpy as np\n",
    "import cv2\n",
    "\n",
    "cascPath = \"C://Users//Somesh//JupyterPython//opencv-master//data//haarcascades//haarcascade_frontalface_default.xml\"\n",
    "eyecPath = \"C://Users//Somesh//JupyterPython//opencv-master//data//haarcascades//haarcascade_eye.xml\"\n",
    "\n",
    "# Create the haar cascade\n",
    "face_cascade = cv2.CascadeClassifier(cascPath)\n",
    "eye_cascade = cv2.CascadeClassifier(eyecPath)\n",
    "\n",
    "img = cv2.imread('beautiful-faces-jolie-twain-hurley-colgate.jpg')\n",
    "gray = cv2.cvtColor(img, cv2.COLOR_BGR2GRAY)\n",
    "\n",
    "faces = face_cascade.detectMultiScale(gray, 1.3, 5)\n",
    "for (x,y,w,h) in faces:\n",
    "    img = cv2.rectangle(img,(x,y),(x+w,y+h),(255,0,0),2)\n",
    "    roi_gray = gray[y:y+h, x:x+w]\n",
    "    roi_color = img[y:y+h, x:x+w]\n",
    "    eyes = eye_cascade.detectMultiScale(roi_gray)\n",
    "    for (ex,ey,ew,eh) in eyes:\n",
    "        cv2.rectangle(roi_color,(ex,ey),(ex+ew,ey+eh),(0,255,0),2)\n",
    "\n",
    "cv2.imshow('img',img)\n",
    "cv2.waitKey(0)\n",
    "cv2.destroyAllWindows()"
   ]
  },
  {
   "cell_type": "code",
   "execution_count": null,
   "metadata": {},
   "outputs": [],
   "source": []
  }
 ],
 "metadata": {
  "kernelspec": {
   "display_name": "Python 3",
   "language": "python",
   "name": "python3"
  }
 },
 "nbformat": 4,
 "nbformat_minor": 2
}
